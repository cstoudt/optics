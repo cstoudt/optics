{
 "cells": [
  {
   "cell_type": "code",
   "execution_count": 1,
   "metadata": {
    "collapsed": true
   },
   "outputs": [],
   "source": [
    "%run /home/nom/Projects/Python/Packages/SciPyProfile.py\n",
    "from IPython.display import display\n",
    "from sympy import init_printing\n",
    "init_printing(use_unicode=False, wrap_line=False, no_global=True, use_latex='mathjax')\n",
    "%matplotlib inline"
   ]
  },
  {
   "cell_type": "code",
   "execution_count": 2,
   "metadata": {
    "collapsed": true
   },
   "outputs": [],
   "source": [
    "from Moeller.Chapter01 import G1FERMAT"
   ]
  },
  {
   "cell_type": "code",
   "execution_count": 3,
   "metadata": {},
   "outputs": [
    {
     "data": {
      "application/vnd.jupyter.widget-view+json": {
       "model_id": "34d58d127c2940a5868f21f7000ec338",
       "version_major": 2,
       "version_minor": 0
      },
      "text/plain": [
       "A Jupyter Widget"
      ]
     },
     "metadata": {},
     "output_type": "display_data"
    },
    {
     "data": {
      "application/vnd.jupyter.widget-view+json": {
       "model_id": "a72d6febc3f144569a793ba5c908f282",
       "version_major": 2,
       "version_minor": 0
      },
      "text/plain": [
       "A Jupyter Widget"
      ]
     },
     "metadata": {},
     "output_type": "display_data"
    }
   ],
   "source": [
    "d1=G1FERMAT()"
   ]
  },
  {
   "cell_type": "code",
   "execution_count": 5,
   "metadata": {},
   "outputs": [
    {
     "data": {
      "application/vnd.jupyter.widget-view+json": {
       "model_id": "5ce18021daad4fe38c332e5d5e18de2f",
       "version_major": 2,
       "version_minor": 0
      },
      "text/plain": [
       "A Jupyter Widget"
      ]
     },
     "metadata": {},
     "output_type": "display_data"
    },
    {
     "data": {
      "application/vnd.jupyter.widget-view+json": {
       "model_id": "5cb7a730acf4486fa2460b113a47d57c",
       "version_major": 2,
       "version_minor": 0
      },
      "text/plain": [
       "A Jupyter Widget"
      ]
     },
     "metadata": {},
     "output_type": "display_data"
    }
   ],
   "source": [
    "d2=G1FERMAT()"
   ]
  },
  {
   "cell_type": "code",
   "execution_count": 6,
   "metadata": {},
   "outputs": [
    {
     "data": {
      "application/vnd.jupyter.widget-view+json": {
       "model_id": "3a693fe2edc74393b36786b1e505f669",
       "version_major": 2,
       "version_minor": 0
      },
      "text/plain": [
       "A Jupyter Widget"
      ]
     },
     "metadata": {},
     "output_type": "display_data"
    },
    {
     "data": {
      "application/vnd.jupyter.widget-view+json": {
       "model_id": "14cd426915b94ce2a43e606443cb6cf2",
       "version_major": 2,
       "version_minor": 0
      },
      "text/plain": [
       "A Jupyter Widget"
      ]
     },
     "metadata": {},
     "output_type": "display_data"
    }
   ],
   "source": [
    "d3=G1FERMAT()"
   ]
  }
 ],
 "metadata": {
  "kernelspec": {
   "display_name": "Python 3",
   "language": "python",
   "name": "python3"
  },
  "language_info": {
   "codemirror_mode": {
    "name": "ipython",
    "version": 3
   },
   "file_extension": ".py",
   "mimetype": "text/x-python",
   "name": "python",
   "nbconvert_exporter": "python",
   "pygments_lexer": "ipython3",
   "version": "3.6.3"
  },
  "widgets": {
   "application/vnd.jupyter.widget-state+json": {
    "state": {
     "07a0a11e1f2f45cbbda41085a8d04d08": {
      "model_module": "@jupyter-widgets/controls",
      "model_module_version": "1.0.0",
      "model_name": "DescriptionStyleModel",
      "state": {
       "description_width": ""
      }
     },
     "0874eee81264455f8b4a8bdf6c287f93": {
      "model_module": "@jupyter-widgets/controls",
      "model_module_version": "1.0.0",
      "model_name": "DescriptionStyleModel",
      "state": {
       "description_width": ""
      }
     },
     "0aa79b228bfa4e8d8825f3d3875a1b93": {
      "model_module": "@jupyter-widgets/controls",
      "model_module_version": "1.0.0",
      "model_name": "TextModel",
      "state": {
       "continuous_update": false,
       "description": "\\( x_f \\)",
       "layout": "IPY_MODEL_7821e481e47c405fa68e76bf2478389d",
       "style": "IPY_MODEL_bca41a6601f44894af15a805e7a73962"
      }
     },
     "0dcbde71a2ec4ebe9336d8283e0ad549": {
      "model_module": "@jupyter-widgets/controls",
      "model_module_version": "1.0.0",
      "model_name": "DescriptionStyleModel",
      "state": {
       "description_width": ""
      }
     },
     "0f132c83ad354f7980a35da4fe96bd9f": {
      "model_module": "@jupyter-widgets/base",
      "model_module_version": "1.0.0",
      "model_name": "LayoutModel",
      "state": {}
     },
     "10a7d945df874248b661b8a9b03c8d78": {
      "model_module": "@jupyter-widgets/base",
      "model_module_version": "1.0.0",
      "model_name": "LayoutModel",
      "state": {}
     },
     "10f98f67fe164f44a094abd45894b985": {
      "model_module": "@jupyter-widgets/controls",
      "model_module_version": "1.0.0",
      "model_name": "DescriptionStyleModel",
      "state": {
       "description_width": ""
      }
     },
     "126156e557304b5fb0984b9a3f24329b": {
      "model_module": "@jupyter-widgets/controls",
      "model_module_version": "1.0.0",
      "model_name": "TextModel",
      "state": {
       "continuous_update": false,
       "description": "velocity 1",
       "layout": "IPY_MODEL_bd264589fa494e2cb405063f641a0d02",
       "style": "IPY_MODEL_b88c838d2c484ba783794d7a4c7ee8f1",
       "value": "1"
      }
     },
     "14cd426915b94ce2a43e606443cb6cf2": {
      "model_module": "@jupyter-widgets/output",
      "model_module_version": "1.0.0",
      "model_name": "OutputModel",
      "state": {
       "layout": "IPY_MODEL_df231304e80d4dd6a571c9039b86c8ae",
       "outputs": [
        {
         "data": {
          "image/png": "iVBORw0KGgoAAAANSUhEUgAAAg0AAAEXCAYAAAAuvXf0AAAABHNCSVQICAgIfAhkiAAAAAlwSFlz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\nyJj8f++SvQgnyMv9AAAAAElFTkSuQmCC\n",
          "text/plain": "<matplotlib.figure.Figure at 0x7f8d4d054588>"
         },
         "metadata": {},
         "output_type": "display_data"
        }
       ]
      }
     },
     "1622c56e8b8c4ebaa2fbe7dead18f848": {
      "model_module": "@jupyter-widgets/base",
      "model_module_version": "1.0.0",
      "model_name": "LayoutModel",
      "state": {}
     },
     "17f2e5b46fb6431d80794bc278f6da37": {
      "model_module": "@jupyter-widgets/controls",
      "model_module_version": "1.0.0",
      "model_name": "VBoxModel",
      "state": {
       "children": [
        "IPY_MODEL_f3524c20e2f541a9a654b6f5ccdf7583",
        "IPY_MODEL_646888b3341049eeb0ece151cdf30d39",
        "IPY_MODEL_1cfb90f5474a4285bd7e63b9fbf4ba61"
       ],
       "layout": "IPY_MODEL_6cefbb09f1244fe78811bf6d6b717d05"
      }
     },
     "18625f5df7b4473aa052268420b8649b": {
      "model_module": "@jupyter-widgets/controls",
      "model_module_version": "1.0.0",
      "model_name": "VBoxModel",
      "state": {
       "children": [
        "IPY_MODEL_b97452612807494ea3c66ddcc10a5e33"
       ],
       "layout": "IPY_MODEL_827794ffdc6b436692e797df8422f5a6"
      }
     },
     "1af66f1ce0ce4cd9859185bb3520a4e7": {
      "model_module": "@jupyter-widgets/base",
      "model_module_version": "1.0.0",
      "model_name": "LayoutModel",
      "state": {}
     },
     "1cb2872c6ffb45069c506400f08252a0": {
      "model_module": "@jupyter-widgets/base",
      "model_module_version": "1.0.0",
      "model_name": "LayoutModel",
      "state": {}
     },
     "1ce93b5e737c4bbba3b71b3385dacf1a": {
      "model_module": "@jupyter-widgets/base",
      "model_module_version": "1.0.0",
      "model_name": "LayoutModel",
      "state": {}
     },
     "1cfb90f5474a4285bd7e63b9fbf4ba61": {
      "model_module": "@jupyter-widgets/controls",
      "model_module_version": "1.0.0",
      "model_name": "LabelModel",
      "state": {
       "layout": "IPY_MODEL_3eebb26445e24ad49189846763618227",
       "style": "IPY_MODEL_e6a91a3b95bf4d0bb0e8df7836d4f63e"
      }
     },
     "1fcffe2021354ab09d9a075dd93c6b84": {
      "model_module": "@jupyter-widgets/controls",
      "model_module_version": "1.0.0",
      "model_name": "TextModel",
      "state": {
       "continuous_update": false,
       "description": "\\( y_f \\)",
       "layout": "IPY_MODEL_c12051883b064dfe834930fbbf3469d7",
       "style": "IPY_MODEL_29c570d05997470c8a7a3652f6e4dbd1",
       "value": "20"
      }
     },
     "1fe17ae59655442db1bd78fad516b643": {
      "model_module": "@jupyter-widgets/controls",
      "model_module_version": "1.0.0",
      "model_name": "DescriptionStyleModel",
      "state": {
       "description_width": ""
      }
     },
     "208bf26ad84b45128dacc14956287aea": {
      "model_module": "@jupyter-widgets/base",
      "model_module_version": "1.0.0",
      "model_name": "LayoutModel",
      "state": {}
     },
     "2132bf695a6d4fe4818d84005b3dca11": {
      "model_module": "@jupyter-widgets/base",
      "model_module_version": "1.0.0",
      "model_name": "LayoutModel",
      "state": {}
     },
     "227cddb7d1e24ed093d58120fccbfe90": {
      "model_module": "@jupyter-widgets/base",
      "model_module_version": "1.0.0",
      "model_name": "LayoutModel",
      "state": {}
     },
     "2295994d44134b80827e5268f4670586": {
      "model_module": "@jupyter-widgets/base",
      "model_module_version": "1.0.0",
      "model_name": "LayoutModel",
      "state": {}
     },
     "25212f927c6240da8f9351a97070256d": {
      "model_module": "@jupyter-widgets/controls",
      "model_module_version": "1.0.0",
      "model_name": "DescriptionStyleModel",
      "state": {
       "description_width": ""
      }
     },
     "2553820aeba04f98b2667ce513825dbe": {
      "model_module": "@jupyter-widgets/base",
      "model_module_version": "1.0.0",
      "model_name": "LayoutModel",
      "state": {}
     },
     "26b9896bbfa444c69b2a03634cf4fed0": {
      "model_module": "@jupyter-widgets/base",
      "model_module_version": "1.0.0",
      "model_name": "LayoutModel",
      "state": {}
     },
     "278042dd5236499aae15c2b6764eac3f": {
      "model_module": "@jupyter-widgets/controls",
      "model_module_version": "1.0.0",
      "model_name": "LabelModel",
      "state": {
       "layout": "IPY_MODEL_2132bf695a6d4fe4818d84005b3dca11",
       "style": "IPY_MODEL_0dcbde71a2ec4ebe9336d8283e0ad549"
      }
     },
     "27d980206771456ea69a3e490e7a06b8": {
      "model_module": "@jupyter-widgets/controls",
      "model_module_version": "1.0.0",
      "model_name": "TextModel",
      "state": {
       "continuous_update": false,
       "description": "\\( x_q \\)",
       "layout": "IPY_MODEL_a1e27ca515ef4006909446f79d827b09",
       "style": "IPY_MODEL_10f98f67fe164f44a094abd45894b985",
       "value": "20"
      }
     },
     "29617e550e344131a92575928b6a38e1": {
      "model_module": "@jupyter-widgets/controls",
      "model_module_version": "1.0.0",
      "model_name": "TextModel",
      "state": {
       "continuous_update": false,
       "description": "\\( x_f \\)",
       "layout": "IPY_MODEL_2c7a147817dc44c8ad1f271161ea45a3",
       "style": "IPY_MODEL_50e080d65a3e404396af4b6257142db4",
       "value": "40"
      }
     },
     "29c570d05997470c8a7a3652f6e4dbd1": {
      "model_module": "@jupyter-widgets/controls",
      "model_module_version": "1.0.0",
      "model_name": "DescriptionStyleModel",
      "state": {
       "description_width": ""
      }
     },
     "2c7a147817dc44c8ad1f271161ea45a3": {
      "model_module": "@jupyter-widgets/base",
      "model_module_version": "1.0.0",
      "model_name": "LayoutModel",
      "state": {}
     },
     "2cd9ba52d63a47a085861a3e3d2389e8": {
      "model_module": "@jupyter-widgets/base",
      "model_module_version": "1.0.0",
      "model_name": "LayoutModel",
      "state": {}
     },
     "2e1b9a134bc84ea0b9682848b3be21a9": {
      "model_module": "@jupyter-widgets/controls",
      "model_module_version": "1.0.0",
      "model_name": "VBoxModel",
      "state": {
       "children": [
        "IPY_MODEL_de78a2bf12164c3eb9530cfee8d45c14"
       ],
       "layout": "IPY_MODEL_9065277c9e804527bf9d014977d0eb3a"
      }
     },
     "2f56e707ae044402ac94304e259a9f8d": {
      "model_module": "@jupyter-widgets/controls",
      "model_module_version": "1.0.0",
      "model_name": "TextModel",
      "state": {
       "description": "\\( y_q \\left ( t_{min} \\right )\\)",
       "disabled": true,
       "layout": "IPY_MODEL_52519fb86cb847fab999a54b45b80985",
       "style": "IPY_MODEL_c472366440444f1db6c5c151c0d35274",
       "value": "32.737"
      }
     },
     "2fd3fb06712941758f408844ec30f175": {
      "model_module": "@jupyter-widgets/controls",
      "model_module_version": "1.0.0",
      "model_name": "TextModel",
      "state": {
       "continuous_update": false,
       "description": "\\( x_f \\)",
       "layout": "IPY_MODEL_fed68b72f2af4fada02f1ac3c68b6e5d",
       "style": "IPY_MODEL_59157161cd194cd9a91752f5f67a54f7",
       "value": "40"
      }
     },
     "3064df2bed9f4d11914189240d3ee313": {
      "model_module": "@jupyter-widgets/base",
      "model_module_version": "1.0.0",
      "model_name": "LayoutModel",
      "state": {}
     },
     "34d58d127c2940a5868f21f7000ec338": {
      "model_module": "@jupyter-widgets/controls",
      "model_module_version": "1.0.0",
      "model_name": "HBoxModel",
      "state": {
       "children": [
        "IPY_MODEL_17f2e5b46fb6431d80794bc278f6da37",
        "IPY_MODEL_58d5edc3029b4c17859f83a5844b1b8f",
        "IPY_MODEL_e1b773bbe7ab43d8b16ae2dedb7446e0"
       ],
       "layout": "IPY_MODEL_934d48826150410bbc3965043f24ba99"
      }
     },
     "34f4da7d6fa74e2880eeadf1437b1255": {
      "model_module": "@jupyter-widgets/base",
      "model_module_version": "1.0.0",
      "model_name": "LayoutModel",
      "state": {}
     },
     "352873652d2e47558c9496fe18020cf2": {
      "model_module": "@jupyter-widgets/controls",
      "model_module_version": "1.0.0",
      "model_name": "VBoxModel",
      "state": {
       "children": [
        "IPY_MODEL_97b2de862fce45e1bd4f049b662db153"
       ],
       "layout": "IPY_MODEL_3064df2bed9f4d11914189240d3ee313"
      }
     },
     "377497e7782f4f98b8579f45e68a8620": {
      "model_module": "@jupyter-widgets/controls",
      "model_module_version": "1.0.0",
      "model_name": "VBoxModel",
      "state": {
       "children": [
        "IPY_MODEL_3aeb3acd488b4e1c9c718cdafa2d0fdc",
        "IPY_MODEL_7d68d9f84ec843a2bbd830abfc6b8a68",
        "IPY_MODEL_eb26df9fa6af45dabf21839a59278fe9"
       ],
       "layout": "IPY_MODEL_8f8552fe869a4f56838adf265f03531a"
      }
     },
     "3a693fe2edc74393b36786b1e505f669": {
      "model_module": "@jupyter-widgets/controls",
      "model_module_version": "1.0.0",
      "model_name": "HBoxModel",
      "state": {
       "children": [
        "IPY_MODEL_377497e7782f4f98b8579f45e68a8620",
        "IPY_MODEL_18625f5df7b4473aa052268420b8649b",
        "IPY_MODEL_5506f28ec7324413b8a62e1c400d11d3"
       ],
       "layout": "IPY_MODEL_1622c56e8b8c4ebaa2fbe7dead18f848"
      }
     },
     "3aeb3acd488b4e1c9c718cdafa2d0fdc": {
      "model_module": "@jupyter-widgets/controls",
      "model_module_version": "1.0.0",
      "model_name": "TextModel",
      "state": {
       "continuous_update": false,
       "description": "velocity 1",
       "layout": "IPY_MODEL_49568bb0a3e443b9a42d6a571016e596",
       "style": "IPY_MODEL_6797ad3866da467b91caaabaeee8b5e7",
       "value": "2.5"
      }
     },
     "3b22469036c04c478c2b63aab69da214": {
      "model_module": "@jupyter-widgets/controls",
      "model_module_version": "1.0.0",
      "model_name": "DescriptionStyleModel",
      "state": {
       "description_width": ""
      }
     },
     "3b8eaf751dbb44e0b9e79a8d60a3d9b2": {
      "model_module": "@jupyter-widgets/output",
      "model_module_version": "1.0.0",
      "model_name": "OutputModel",
      "state": {
       "layout": "IPY_MODEL_227cddb7d1e24ed093d58120fccbfe90"
      }
     },
     "3e46e2716453487582b52083501e3538": {
      "model_module": "@jupyter-widgets/controls",
      "model_module_version": "1.0.0",
      "model_name": "DescriptionStyleModel",
      "state": {
       "description_width": ""
      }
     },
     "3eebb26445e24ad49189846763618227": {
      "model_module": "@jupyter-widgets/base",
      "model_module_version": "1.0.0",
      "model_name": "LayoutModel",
      "state": {}
     },
     "423022938b904977bbe60273d2c25df5": {
      "model_module": "@jupyter-widgets/controls",
      "model_module_version": "1.0.0",
      "model_name": "DescriptionStyleModel",
      "state": {
       "description_width": ""
      }
     },
     "440f4d23b9e34c09985fe0f7111827bf": {
      "model_module": "@jupyter-widgets/controls",
      "model_module_version": "1.0.0",
      "model_name": "DescriptionStyleModel",
      "state": {
       "description_width": ""
      }
     },
     "481b1d139b3e4e8aaa65c9e6c18e8537": {
      "model_module": "@jupyter-widgets/controls",
      "model_module_version": "1.0.0",
      "model_name": "TextModel",
      "state": {
       "description": "\\( y_q \\left ( t_{min} \\right )\\)",
       "disabled": true,
       "layout": "IPY_MODEL_cd4d1d94826040ffa060e01299220700",
       "style": "IPY_MODEL_3e46e2716453487582b52083501e3538",
       "value": "20.000"
      }
     },
     "49568bb0a3e443b9a42d6a571016e596": {
      "model_module": "@jupyter-widgets/base",
      "model_module_version": "1.0.0",
      "model_name": "LayoutModel",
      "state": {}
     },
     "4a76dbd981eb4f4ca26e8609bf65acfd": {
      "model_module": "@jupyter-widgets/controls",
      "model_module_version": "1.0.0",
      "model_name": "LabelModel",
      "state": {
       "layout": "IPY_MODEL_991483a0a4904b0e968ea933da58632e",
       "style": "IPY_MODEL_a5173d56f79d471ea8c8e1a22f3734e9"
      }
     },
     "4ad35f7530cf468cb98541cefa0c7804": {
      "model_module": "@jupyter-widgets/base",
      "model_module_version": "1.0.0",
      "model_name": "LayoutModel",
      "state": {}
     },
     "4dee045a018047acaf19233977fd17d6": {
      "model_module": "@jupyter-widgets/controls",
      "model_module_version": "1.0.0",
      "model_name": "DescriptionStyleModel",
      "state": {
       "description_width": ""
      }
     },
     "50e080d65a3e404396af4b6257142db4": {
      "model_module": "@jupyter-widgets/controls",
      "model_module_version": "1.0.0",
      "model_name": "DescriptionStyleModel",
      "state": {
       "description_width": ""
      }
     },
     "5130eb31decd446cb7d372ab2ed40c8e": {
      "model_module": "@jupyter-widgets/controls",
      "model_module_version": "1.0.0",
      "model_name": "TextModel",
      "state": {
       "continuous_update": false,
       "description": "velocity 1",
       "layout": "IPY_MODEL_1cb2872c6ffb45069c506400f08252a0",
       "style": "IPY_MODEL_f45193cc293b43879f43b515b64d7b28"
      }
     },
     "52519fb86cb847fab999a54b45b80985": {
      "model_module": "@jupyter-widgets/base",
      "model_module_version": "1.0.0",
      "model_name": "LayoutModel",
      "state": {}
     },
     "527ef7959a574d0e8847a31f7f406a43": {
      "model_module": "@jupyter-widgets/controls",
      "model_module_version": "1.0.0",
      "model_name": "VBoxModel",
      "state": {
       "children": [
        "IPY_MODEL_dfd527c1e0c14f4ab16deb15c4e60135",
        "IPY_MODEL_6234d28367bb4142b313819dc7ed823e"
       ],
       "layout": "IPY_MODEL_1ce93b5e737c4bbba3b71b3385dacf1a"
      }
     },
     "549ce195f4ac4d4bbba986853038dff4": {
      "model_module": "@jupyter-widgets/base",
      "model_module_version": "1.0.0",
      "model_name": "LayoutModel",
      "state": {}
     },
     "5506f28ec7324413b8a62e1c400d11d3": {
      "model_module": "@jupyter-widgets/controls",
      "model_module_version": "1.0.0",
      "model_name": "VBoxModel",
      "state": {
       "children": [
        "IPY_MODEL_2fd3fb06712941758f408844ec30f175",
        "IPY_MODEL_6a8fceefbc6f4d9bbace8b747278a90a"
       ],
       "layout": "IPY_MODEL_5a7ba02247dc49f7b4f66df8e5f6a97f"
      }
     },
     "58d5edc3029b4c17859f83a5844b1b8f": {
      "model_module": "@jupyter-widgets/controls",
      "model_module_version": "1.0.0",
      "model_name": "VBoxModel",
      "state": {
       "children": [
        "IPY_MODEL_e2aa031e642e435389c5fd25f33d892c"
       ],
       "layout": "IPY_MODEL_0f132c83ad354f7980a35da4fe96bd9f"
      }
     },
     "59157161cd194cd9a91752f5f67a54f7": {
      "model_module": "@jupyter-widgets/controls",
      "model_module_version": "1.0.0",
      "model_name": "DescriptionStyleModel",
      "state": {
       "description_width": ""
      }
     },
     "5a7ba02247dc49f7b4f66df8e5f6a97f": {
      "model_module": "@jupyter-widgets/base",
      "model_module_version": "1.0.0",
      "model_name": "LayoutModel",
      "state": {}
     },
     "5bdaa6219cb64e20add6f6cbe66bba2a": {
      "model_module": "@jupyter-widgets/controls",
      "model_module_version": "1.0.0",
      "model_name": "DescriptionStyleModel",
      "state": {
       "description_width": ""
      }
     },
     "5cb7a730acf4486fa2460b113a47d57c": {
      "model_module": "@jupyter-widgets/output",
      "model_module_version": "1.0.0",
      "model_name": "OutputModel",
      "state": {
       "layout": "IPY_MODEL_ad77ec4d6b664c95878c73ddf99f94ec",
       "outputs": [
        {
         "data": {
          "image/png": "iVBORw0KGgoAAAANSUhEUgAAAg4AAAEXCAYAAADFisz3AAAABHNCSVQICAgIfAhkiAAAAAlwSFlz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\nOIiIiEjSlDiIiIhI0v4f7KhkdjGv77cAAAAASUVORK5CYII=\n",
          "text/plain": "<matplotlib.figure.Figure at 0x7f8d4d998400>"
         },
         "metadata": {},
         "output_type": "display_data"
        }
       ]
      }
     },
     "5ce18021daad4fe38c332e5d5e18de2f": {
      "model_module": "@jupyter-widgets/controls",
      "model_module_version": "1.0.0",
      "model_name": "HBoxModel",
      "state": {
       "children": [
        "IPY_MODEL_af46a1e6ef6e40d8a4a6559671e7a1b9",
        "IPY_MODEL_2e1b9a134bc84ea0b9682848b3be21a9",
        "IPY_MODEL_527ef7959a574d0e8847a31f7f406a43"
       ],
       "layout": "IPY_MODEL_833a209af72845928a2d3173b3e30a6a"
      }
     },
     "5e7a702f4ea643d8bd07acaf05815308": {
      "model_module": "@jupyter-widgets/base",
      "model_module_version": "1.0.0",
      "model_name": "LayoutModel",
      "state": {}
     },
     "61430456366a4c5599bc3c6eb3ae2edd": {
      "model_module": "@jupyter-widgets/controls",
      "model_module_version": "1.0.0",
      "model_name": "DescriptionStyleModel",
      "state": {
       "description_width": ""
      }
     },
     "6234d28367bb4142b313819dc7ed823e": {
      "model_module": "@jupyter-widgets/controls",
      "model_module_version": "1.0.0",
      "model_name": "TextModel",
      "state": {
       "continuous_update": false,
       "description": "\\( y_f \\)",
       "layout": "IPY_MODEL_dfc2e3c0bda64b35879121e3572bf2cf",
       "style": "IPY_MODEL_fba09cfaabef4c0c826c25dd8dc98c1e",
       "value": "40"
      }
     },
     "646888b3341049eeb0ece151cdf30d39": {
      "model_module": "@jupyter-widgets/controls",
      "model_module_version": "1.0.0",
      "model_name": "TextModel",
      "state": {
       "continuous_update": false,
       "description": "velocity 2",
       "layout": "IPY_MODEL_5e7a702f4ea643d8bd07acaf05815308",
       "style": "IPY_MODEL_de0a746c7595465fb60e0e027b6efaad",
       "value": "2"
      }
     },
     "6668b733ac0b413a89b31c5b2f360bb3": {
      "model_module": "@jupyter-widgets/base",
      "model_module_version": "1.0.0",
      "model_name": "LayoutModel",
      "state": {}
     },
     "6797ad3866da467b91caaabaeee8b5e7": {
      "model_module": "@jupyter-widgets/controls",
      "model_module_version": "1.0.0",
      "model_name": "DescriptionStyleModel",
      "state": {
       "description_width": ""
      }
     },
     "6a8fceefbc6f4d9bbace8b747278a90a": {
      "model_module": "@jupyter-widgets/controls",
      "model_module_version": "1.0.0",
      "model_name": "TextModel",
      "state": {
       "continuous_update": false,
       "description": "\\( y_f \\)",
       "layout": "IPY_MODEL_bd0c2892b03d467db6009d77a830f7db",
       "style": "IPY_MODEL_25212f927c6240da8f9351a97070256d",
       "value": "40"
      }
     },
     "6bd7611ebf4840d4a189192375f220bc": {
      "model_module": "@jupyter-widgets/controls",
      "model_module_version": "1.0.0",
      "model_name": "TextModel",
      "state": {
       "continuous_update": false,
       "description": "\\( y_f \\)",
       "layout": "IPY_MODEL_800c7c6363c04696a19736ef79d5c6e8",
       "style": "IPY_MODEL_3b22469036c04c478c2b63aab69da214",
       "value": "40"
      }
     },
     "6cefbb09f1244fe78811bf6d6b717d05": {
      "model_module": "@jupyter-widgets/base",
      "model_module_version": "1.0.0",
      "model_name": "LayoutModel",
      "state": {}
     },
     "72b03b1758be4bb998b0fd944ac4e947": {
      "model_module": "@jupyter-widgets/controls",
      "model_module_version": "1.0.0",
      "model_name": "DescriptionStyleModel",
      "state": {
       "description_width": ""
      }
     },
     "7821e481e47c405fa68e76bf2478389d": {
      "model_module": "@jupyter-widgets/base",
      "model_module_version": "1.0.0",
      "model_name": "LayoutModel",
      "state": {}
     },
     "7925a40de5bf4f04894eb303f830c377": {
      "model_module": "@jupyter-widgets/base",
      "model_module_version": "1.0.0",
      "model_name": "LayoutModel",
      "state": {}
     },
     "7d68d9f84ec843a2bbd830abfc6b8a68": {
      "model_module": "@jupyter-widgets/controls",
      "model_module_version": "1.0.0",
      "model_name": "TextModel",
      "state": {
       "continuous_update": false,
       "description": "velocity 2",
       "layout": "IPY_MODEL_208bf26ad84b45128dacc14956287aea",
       "style": "IPY_MODEL_5bdaa6219cb64e20add6f6cbe66bba2a",
       "value": "1"
      }
     },
     "800c7c6363c04696a19736ef79d5c6e8": {
      "model_module": "@jupyter-widgets/base",
      "model_module_version": "1.0.0",
      "model_name": "LayoutModel",
      "state": {}
     },
     "827794ffdc6b436692e797df8422f5a6": {
      "model_module": "@jupyter-widgets/base",
      "model_module_version": "1.0.0",
      "model_name": "LayoutModel",
      "state": {}
     },
     "82865e79f9bb43658d074e03ca93e3bb": {
      "model_module": "@jupyter-widgets/base",
      "model_module_version": "1.0.0",
      "model_name": "LayoutModel",
      "state": {}
     },
     "833a209af72845928a2d3173b3e30a6a": {
      "model_module": "@jupyter-widgets/base",
      "model_module_version": "1.0.0",
      "model_name": "LayoutModel",
      "state": {}
     },
     "856c10c2d37843c1ac7261e14b5d8abf": {
      "model_module": "@jupyter-widgets/base",
      "model_module_version": "1.0.0",
      "model_name": "LayoutModel",
      "state": {}
     },
     "8a07a1bf85ea40ecbaa5a05f68d52b96": {
      "model_module": "@jupyter-widgets/base",
      "model_module_version": "1.0.0",
      "model_name": "LayoutModel",
      "state": {}
     },
     "8e36b3f314154410a98f59d37164313b": {
      "model_module": "@jupyter-widgets/controls",
      "model_module_version": "1.0.0",
      "model_name": "TextModel",
      "state": {
       "continuous_update": false,
       "description": "velocity 1",
       "layout": "IPY_MODEL_e4456062a3af409f8ab29ff188632f6d",
       "style": "IPY_MODEL_da5fef1c05d84274a0692282c8bf8786",
       "value": "1"
      }
     },
     "8f8552fe869a4f56838adf265f03531a": {
      "model_module": "@jupyter-widgets/base",
      "model_module_version": "1.0.0",
      "model_name": "LayoutModel",
      "state": {}
     },
     "9065277c9e804527bf9d014977d0eb3a": {
      "model_module": "@jupyter-widgets/base",
      "model_module_version": "1.0.0",
      "model_name": "LayoutModel",
      "state": {}
     },
     "915ec5dd266b4ba8abd54a91cde40726": {
      "model_module": "@jupyter-widgets/controls",
      "model_module_version": "1.0.0",
      "model_name": "TextModel",
      "state": {
       "description": "\\( y_q \\left ( t_{min} \\right )\\)",
       "disabled": true,
       "layout": "IPY_MODEL_97e934ea1a094eb3b32170e78fdcdcb1",
       "style": "IPY_MODEL_ad696b79e03248bbbb4a7ce416d6f89b"
      }
     },
     "91de8de564084439883f84c5e3463ac0": {
      "model_module": "@jupyter-widgets/base",
      "model_module_version": "1.0.0",
      "model_name": "LayoutModel",
      "state": {}
     },
     "934d48826150410bbc3965043f24ba99": {
      "model_module": "@jupyter-widgets/base",
      "model_module_version": "1.0.0",
      "model_name": "LayoutModel",
      "state": {}
     },
     "94cf93f091b848aa8e708edc7a46cc83": {
      "model_module": "@jupyter-widgets/base",
      "model_module_version": "1.0.0",
      "model_name": "LayoutModel",
      "state": {}
     },
     "95e094cb22d740e68588879882325525": {
      "model_module": "@jupyter-widgets/base",
      "model_module_version": "1.0.0",
      "model_name": "LayoutModel",
      "state": {}
     },
     "976fb1953d0841089a2addecd464c3d4": {
      "model_module": "@jupyter-widgets/base",
      "model_module_version": "1.0.0",
      "model_name": "LayoutModel",
      "state": {}
     },
     "97954fcf15b044669c9e28fb704d9630": {
      "model_module": "@jupyter-widgets/output",
      "model_module_version": "1.0.0",
      "model_name": "OutputModel",
      "state": {
       "layout": "IPY_MODEL_b055321feedd454385fd70af2462f3db",
       "outputs": [
        {
         "data": {
          "image/png": "iVBORw0KGgoAAAANSUhEUgAAAg0AAAEXCAYAAAAuvXf0AAAABHNCSVQICAgIfAhkiAAAAAlwSFlz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\nSUVORK5CYII=\n",
          "text/plain": "<matplotlib.figure.Figure at 0x7f8d4d99c6d8>"
         },
         "metadata": {},
         "output_type": "display_data"
        }
       ]
      }
     },
     "97b2de862fce45e1bd4f049b662db153": {
      "model_module": "@jupyter-widgets/controls",
      "model_module_version": "1.0.0",
      "model_name": "TextModel",
      "state": {
       "continuous_update": false,
       "description": "\\( x_q \\)",
       "layout": "IPY_MODEL_b4bbfde82ed54eb6a6d1df5ddf85dbf5",
       "style": "IPY_MODEL_4dee045a018047acaf19233977fd17d6"
      }
     },
     "97e934ea1a094eb3b32170e78fdcdcb1": {
      "model_module": "@jupyter-widgets/base",
      "model_module_version": "1.0.0",
      "model_name": "LayoutModel",
      "state": {}
     },
     "981c1a5da8ea4954b70ac03421793643": {
      "model_module": "@jupyter-widgets/controls",
      "model_module_version": "1.0.0",
      "model_name": "TextModel",
      "state": {
       "continuous_update": false,
       "description": "\\( y_f \\)",
       "layout": "IPY_MODEL_34f4da7d6fa74e2880eeadf1437b1255",
       "style": "IPY_MODEL_61430456366a4c5599bc3c6eb3ae2edd"
      }
     },
     "991483a0a4904b0e968ea933da58632e": {
      "model_module": "@jupyter-widgets/base",
      "model_module_version": "1.0.0",
      "model_name": "LayoutModel",
      "state": {}
     },
     "a11d6822bebd4b3da70bb97f0ff95b4f": {
      "model_module": "@jupyter-widgets/controls",
      "model_module_version": "1.0.0",
      "model_name": "DescriptionStyleModel",
      "state": {
       "description_width": ""
      }
     },
     "a1e27ca515ef4006909446f79d827b09": {
      "model_module": "@jupyter-widgets/base",
      "model_module_version": "1.0.0",
      "model_name": "LayoutModel",
      "state": {}
     },
     "a5173d56f79d471ea8c8e1a22f3734e9": {
      "model_module": "@jupyter-widgets/controls",
      "model_module_version": "1.0.0",
      "model_name": "DescriptionStyleModel",
      "state": {
       "description_width": ""
      }
     },
     "a72d6febc3f144569a793ba5c908f282": {
      "model_module": "@jupyter-widgets/output",
      "model_module_version": "1.0.0",
      "model_name": "OutputModel",
      "state": {
       "layout": "IPY_MODEL_10a7d945df874248b661b8a9b03c8d78",
       "outputs": [
        {
         "data": {
          "image/png": "iVBORw0KGgoAAAANSUhEUgAAAg4AAAEXCAYAAADFisz3AAAABHNCSVQICAgIfAhkiAAAAAlwSFlz\nAAALEgAACxIB0t1+/AAAIABJREFUeJzs3Xd4VGXaP/DvnZ6QkJCQnkAoCR1CC1KXIkVERASEdTWK\nrLIqLqy6oKKyyO7Lvi67rj9soL6CIjYsqBQBhYh0EEInGALMpEEgPaTN/ftjzpA5YSaZtDmTyf25\nrlzJec5zZu6BzMk9TyVmhhBCCCGELVy0DkAIIYQQzYckDkIIIYSwmSQOQgghhLCZJA5CCCGEsJkk\nDkIIIYSwmSQOQgghhLCZJA4aI6JPiOg7reNoCCIKICImokkNfJz5RHS1seISwoSIdhLRu438mExE\nf2jMx6zDcz9ERBVaPLcQLTpxUN74NX2l2fg4nZX6tzVyfBNsiPHtxnzOpkBEX9vwOuIBrALQXet4\nhX0RUSgR/T8iSiOiMiK6QkRfKL8TdX2sxVbet1MB/KXBwdYtlpHVfsdziOgnIhpex8epIKKHmihM\nIerMTesANBZu9nMCgG+U75eVskq7R6T2I9QxLgQwCYD5jafY0oVE5MHMZU0YW108BMDL7PgkgNcA\nrDYru8rMFbDyeoRzIqJoAHsAZAP4E4y/G2EAFgDYR0RTmHlLQ5+Hma819DEaoB+ADBhf1z8AbCai\nnsycpmFMQtRbi25xYOZM0xcA043liln5FeBmU/x7RHSViG4Q0X4iGqWc8wKQoly7V/lkcUY5F6t8\n2s4komIiOkZE99UhvrJqMRYBqDQvY+Z8IopXnvdeItpBRMUA/kpE3kT0f0R0gYhKiChF+UTmpsQ3\nULmuh/nzEtF4IqokokjluA0RvaO8jiIiOkBE4+vwOnKrvQ4GUFDtdVRU76owHRPRnUR0WnkNW4ko\nSGmNOUFEhUT0PRG1rfYaJhPRQeWay0T0FhH52xqzsJs3ALgDGMXMm5n5EjMfYOZZMCbOHxCRNwAQ\n0RIiOk9EvyeiVOW9uJ2IOijnHwLwCoD2Zp/ylyjnbumqIKIniOgUEZUSUTYRfWF27vfK+zxP+R38\nnoji6vkaTfeUowD+CKAVgPHK84xVYrumPNcuIkowiyMNgCuA/zO9pmqvYSgRHVHuLweJqH89YxTC\nZi06caiDDwGMBDATxk8PR2D81NCRmW8AGKzUuxPGFoJhyrEfgC0AxgLoBWANgI+JaEgTxfkqgLcB\n9FBidgdwAcB0AN0APA9jc+08AGDmgwBOA3iw2uM8AGA7M+uVJGMbgHYApgDoDeBjAN8R0cAmeh3m\n/ADMB/AHAKNg7Mr4HMAzABIBjAbQE8DfTRcQ0T0A1sHY9dETwAwY/98+skO8wkZE1AbG98xKZs63\nUOV/AITC+P4xCQfwOID7YGx58wPwNRERgE8B/BOATqkXDuBfVp77b0rdN2F8b04AcNSsiieMSUg/\n5fkrAXxPRB71ea1mSpTv7sp3XxiTp9sADIHxQ8gWIgpSzg9Unnu+2WsycYHx3+jPSpzXAXxm+mAg\nRJNhZvky7tcxDMZPwjHVynso5aPNygjGJtU3lePOSp3bbHierQD+n9nxJwC+szHGZQDOWCiPV55/\nng2P8TcAB82OF8F4o3VRjn1hbNm4XzmeAiAXgFe1x/kSwAfKzwHK80+y8XVcBTDfQvl8GLsszI9V\n/ycwJggMoFO113Te7PgogEXVHru3pf9f+dLuC8ZuQQZwj5Xzgcr5Z5XjJcpxZ7M6cUrZ7crxYgBp\nFh5rJ4B3lZ9bwfgH/Jk6xGqKZahZGQP4Qw3XjFTqRCnHfjB2z5UD6GnlGhcYE4D7zcoqADxUrd5D\nymP3Myu7TSnrovX/rXw595e0ONSuBwADgN2mAmZmAD8r56wiIl8ielVpDr1ORIUwfkJu30SxHrAQ\nw5+J6DAZB5wVwpgomD//RzB+ihmjHN8L4yecr5TjgTDe8K4q3QKFyuNMAhDbRK/DXD6r+4IzARQz\n82/VykIA49gOAH0AvFwt3j1KXXvELGxDtZy3tAPfFWY+f7MC8zkYE9G6DKrtAeOYmx+sBmbs/vtK\n6eYrAHBJOVWf9+5Z5XcwD8YuigeZ+YTyPB2I6EOlCyYfQD4AfxufhwEcMzvWK99D6xGjEDaTJq36\nI1i+sZn7L4x/kJ+BsQmyCMBKAA1t7rSmyPyAiP4IY1PmMwD2ASgA8AiAuaY6zKwjoh9h7K7Ypnz/\ngplNgxRdYGyRGINb3WjsF2BBebVjtlJmSoJNf4wWwzjYtbr0xgtNNFAKjEl5T1QlquZ6Kt/P1vI4\ntSUg1lh8/xKRD4xJxW4As2FMTAFjK2N93rvjYRwceZ1vHaT5HYyJzxMwDsouU57XlucxMLP5AG7T\n65EPhKJJSeJQu5MwvhGHwThYC0p/6lAAu5Q6ptkLrtWuHQFgDTN/oVznBuMn3hTYxwgAPzPzm6YC\nIupood5aAG8RUVcYm1dHm507BGPiUcHNYBQ4M5cS0QkA3Zh5hdbxCOuY+RoRbQbwBBH9l28d5/A8\ngCwYE1qTYCLqZGpxUgYsBsE4Vgcwvhervw+rOwVj0jsewHEL57sBCAbwAjOfVp5nCOqfoKQxs656\noTKOoTuAicy8VSmLgtJ6ZsaW1ySE3UhmWgtmPgngWwCriOh2IuoG44CqzgBMf5gyodyIyDgnPUAp\nPwtgKhH1J+PMhfcBtIX9nAUwiIyzJGKJ6DmoB5qZbIDx08p6GD/1JJmd+wbAYQDfKrMbOpBxNsbT\nRHR/U7+AenoBwENE9Hci6q289klE9IHWgYlbPAFj19iPykyZaOX362MYB8M+xMwlZvWLYZxh0J+I\nBsA44Pg4gO3K+QsAwohoMBG1VVoPVJi5EMb37hJlZkUcEfVR3h8AcBFAKYB5RNSJiMbA2HpYWwtj\nXV0HcAXAH5UYBsP4HiypVu8CgFFEFEHVZg8JoQVJHGzzIIytC5/AOPCuH4A7mDkVME6bhHGmwoMw\n9jPuU66bB+P89CQYPzWdgzEJsZd/A9gI42jzgzAmO8urV1K6Jb6AcZDlh8oYDtO5ChiTjR0A3oIx\nGdkIY8vEhaYNv36YeSOAiTCOut8L4FcYu2yytIxL3IqZLwIYAGA/gHcA/AZgM4yzGgbzrWs4ZMA4\nW2YDgF9g/CN7j9nv7Ncwzrr5HsY/yn+18tQvwphgPgXgBIxdE/2UmK7COItnLIwtjv+CsdXN0LBX\nq8bMBhhnPHUCkAzgAxjXN8moVvVpAP1hfL9dacwYhKgPMvsbIYQQDktZk+EPzNxZ61iEaMlkjIMQ\nQohmJS8vz6WysrJDWVnZAGa+pTtKNIpKNze3Cx4eHof8/f1V3WeSOAghhGg28vLyPIqKip4oKiqK\nLC0tLULjjz0RCjc3t+4+Pj53lpWV/V9wcPDN2U3SVSGEEKLZyMzM/P21a9d6GgwGR9mLx+n5+/t7\ntG7d+iV/f/8KQAZHCiGEaCby8vKovLy8syQN9lVcXOxeXl5+c5E1h+6qyMvLk+YQ0ez4+/vXd75/\ng8l7RjRHdXjPeFRWVpqWDBd2UlFRUVJZWdkRxtk/0uIghBCi2XCV7nX7U6Y731zNVBIHIYQQQtjM\nobsqbJGSkoLYWMfct0hiqx+JrWklJycjKipK6zAs0ul0Dhvb/v370aFDB63DsEiv1yMyMlLrMCxK\nT0/H6NGja68omo1mnzgIIYQQjmThwoXDN23aNPq22247uHr16k011T137pzvK6+8cvvZs2djy8rK\nPP39/a/Pmzfvu2nTpl0EgEWLFg07fPhwt5ycnLZubm4VUVFRuvnz5+8YMWJEtn1eza0kcRBCCCEa\nyXfffRe1e/fufsHBwbUucZ+RkeE1e/bsR2JiYi4tWbLk4/Dw8KKzZ8+2CQ8Pv7nT8alTp2LGjx9/\nMCEhId1gMGDlypWjnn322Qc3bNjwRlRUlCaDRGWMgxBCiGZv8ODBf3nxxRcHm5ft3LkzJD4+fvHu\n3buD7RFDZmam5/Lly6c+9dRTG729vW/UVn/58uVDfX19Cz766KOvJk6cqO/bt2/uzJkzLwwdOvSq\nqc7GjRs/euaZZ46OGDEie+TIkdnvvPPOVyUlJT4//PBDdNO+GuukxUEIOyOiaBi3Mg+DceOkVcz8\nXyIKhHFDshgAaQBmMPN1C9cnAlisHC5j5jX2iFsIR9auXbvL58+fjzAv+9e//jVh4MCBR4YNG2bT\n5mALFy4cvm3btuE11Vm8ePFHU6dOvWTp3Pz58++Kj48/dd99911Yu3bt72p7vqNHj3bt3r37+Zkz\nZ05LTU3t4OvrWzBy5MgjixcvPuDiYvlzfU5OjgczU5s2bWpNTJqKJA5C2F8FgKeZ+QgR+QE4TETb\nADwEYAczLyeiRQAWAVhofqGSXLwM446SrFy70VKCIURLEhcXp/vpp58Gmo5Xr17dNTMzM/zNN9/8\n3NbHmDdv3qFp06adrOV58i2VL1++vN/Vq1cD33///a9sfb68vLw2e/fuHThixIi9c+bM2X306NGw\njz/+eCIAvPTSSwcsXfPiiy/eERISkjlp0qTLtj5PY5PEQQg7Y+YMKFsnM3MBEZ0GEAngbhi3KweA\nNQB2olriAGA8gG3MfA0AlIRjAoD1TR64EDai8jKwmztA9lsLbeDAgbqvv/56nE6n8w4ICChbs2bN\nuDvvvHNXu3btbB4HEBUVVVKfcQP79u0L+vLLL8e89tpr/+fj41Np63XMTGFhYemvv/76DgC4/fbb\nMy9fvhy0Y8eOgZYShz/96U/jL1682O7NN998393dXbMFLSRxEKIWb58qxPm8Ckxq74VQQ+M+NhHF\nAOgLYD+AUCWpADNnEFGIhUsiAZh/0tApZUI4jHbbP4N3th7pw+9Cuqe/XZ5z9OjR6S4uLpW7du2K\nOHnyZJiLi4th0aJFN//47t69O3jZsmV33bhxw6tHjx4paWlpkd9///0H5o9R366K3bt3R5eUlPjM\nnTv3cVMZM9OlS5fa9+7de8CePXv+7uvre0tC0apVq4Lw8HBVN0pMTMyVpKSkQdXrzp07d/yvv/7a\n8z//+c+afv36adrCKImDELVYe64Ip65X4N0zRWjt5o31/qUYGubZ4MclIl8AGwDMZ+Z8su3TmaVK\nFj95pKSkWH0QnU5ny3NpwpFj0+v1WodglaPE5lNwHf2O7YELGxD36esIConGhTatUeEXoKrX2Ouh\n+Pr6VoaGhmbu2rUr7tChQ/Hz5s3b4O3tbQCA0tJSl6VLl9793HPPfTtq1Kis++67b3pkZOQtsx7q\n21Vx//33n0lISEg3L3vllVfuDg4OvjZ37tyfrbVCxMTEXM7KygoyL7t06VJQ69at88zLHnvssQlK\n0vDBkCFDrkJjkjgIUYPU/Aqcul5x87ioAuga0PC3DRG5w5g0rGPmL5XiLCIKV1obwgFYmqetQ1V3\nBgBEwdilcQtrN2ZZAKp+HHmRJUeKLea7bXDhqqY5z5IidOjTF3Bt+j83HTt2vPzLL7/c1qFDh98e\nfvjhc6byd999t1u7du3SR40alQUAkZGRV0JCQm5JAOrbVREeHn4jPDxcNVjRw8OjvFWrViXm6y0s\nXbo0Yfv27QlJSUkrAeCBBx7Yu2jRokcWLlw4fNq0aScPHjwYlpSUNGjKlCk7TNfMmTNn4pEjR/os\nXLjwk5CQkBspKSm+ABAYGFgWFBSkyWZfkjgIUYPvLqrvIX39DQjycm3QY5KxaeE9AKeZ+d9mpzYC\nSASwXPn+jYXLtwL4BxG1UY7HAXiuQQEJ0Ug8c7IQdGK/quxcnxGIs0PSAACxsbGZe/bs4WeffXar\neXlKSkpo586dM03Hly5dCh09evR5uwRlJi8vz+f69es3WxjuuOOO9KysrE/Wrl07ZuvWrb/z8/PL\nmzx58k8vvPDCQVOd/fv3DwSAZcuWPWj+WOPGjdu1YsWKnXYL3owkDkLU4LuL6hlPI4NsHvdUk6EA\nHgBwnIiOKmXPw5gwfEZEjwC4BGA6ABDRAABzmXkOM18jolcAmG4sS00DJYXQWsTu70Bmm1CVBIVB\n16En4uz0/Lt27eqdkJBwaPjw4apxA35+fiWXLl1qCwCffvpph5SUlLjBgwfbPPuhPqqPnwAA5Q/9\nTvOyhx56KOWhhx6y2q94/PjxvzV2bA0liYMQVmQUV+LAFXVL4O8aIXFg5t2wPFYBAMZYqH8IwByz\n4/cBvN/gQIRoRF5X0hF46pCqLH3YJMDKegSNpaKigi5evOjz3nvvxWdlZYW89dZbt0y/fPjhh5Mf\nffTR+0ePHj23T58+Z/39/a9r1czvDCRxEMKKb9OqdVO0dUeYZ7FG0Qjh2CJ2fwcyG6dbHByJ6936\nARmZNVzVcF999VX7pUuXJgYGBl594YUXPouMjLxlYaSOHTsWbd++fRUAbN++Pezy5cuWZiwJG9kl\ncahhpbxPAXRRqgUAyGXmeHvEJERtvqk2vmFKjDeAPMuVhWjBvLN0CDxzRFWWPnwSQE2/q8H06dPT\npk+fbnNz/tGjR8Oio6M12yDKGdirxcHiSnnMfJ+pAhGtgNyVhYPILqnE3ix1S+bk9t6oqHXbGiFa\nnoifv1UdF4VGIzfOMT8DPvPMM0drryVqYpdNrpg5g5mPKD8XADCtlAfg5ijzGZDV74SD+P7iDRjM\nVkfoFeiODq2lZ0+I6nwyLqJNyjFVWfrwu+y6aqSwL7vvjlltpTyT4QCymNn6ijVC2FH1boq7Y7w1\nikQIxxaZtFF1XBjRAXmde2kUjbAHu36Eqr5SntmpWailtaGmVfBqOqc1ia1+tIwttxz4Od0b5hMf\n+iALKSnGQV6WYmvsVfCEaA5a6VLhn6peaFFaG5yf3RIHKyvlgYjcAEwF0L+m663dmFNSUhz2pi2x\n1Y/WsX14rgiVyL153C3ADWP7dAagfWxCOJLIn9WtDQVRnZDfoZtG0Qh7sUtXRQ0r5QHA7QDOMLPj\nLlAvWpRvq3VTTJZuCiFu4XspBa3TzqjK0kdMltaGFsBeYxxMK+WNJqKjytdE5dxMyKBI4SBySw34\nKb1UVTa5vSQOQqgw3zK2Ib99FxS072LlAuFM7NJVUdNKecz8kD1iEMIWWy7fQLnZ1tmdW7uhexuZ\nTSGEOb+LZ+F3WT3WJ334XRpFA6xbt67T8uXL/1BTndmzZ3+1YMGCZHvFVJtFixYNO3z4cLecnJy2\nbm5uFVFRUbr58+fvMN8UCwCWLVs2cPPmzUOKior82rZtm/34449vqb6tt7kNGza0X7du3ZD09PTw\noqIiv8TExG+qT0G9cuWKx4svvjg6OTm5a3FxcavQ0NDM+fPnb77jjjvSrT2uObkjCmFm4y2zKbxg\n43bXQrQMFlob8jp0R2F0Z40CAiZNmnQxISFhhek4MTHxj/Hx8ScXLFiwx1QWGRlZ510vm9KpU6di\nxo8ffzAhISHdYDBg5cqVo5599tkHN2zY8IZph86VK1f2+PzzzyfMmjXr++HDh19as2bNwGXLlv0h\nNjb2jV69ellc96iwsNAjOjo6e+zYscdWrVp1j6U68+bNm5yRkRG6YMGCr2NiYvI/+eST3osXL34w\nJibmjW7duhXUFrskDkIoCsoN2KFXr1Z7l3RTCKHSOvUkfPWpqrL0Edq1NgCAv79/hb+/fyEAZGZm\nehYUFLSOj4+/FBsbW6hpYDXYuHHjR+bHvXr1+mrUqFGLfvjhh+jZs2efU+oM7tu379FFixYdAYCh\nQ4duHj58eOfVq1cPeP3113dYetzExMSUxMTEFABYvXr1lOrn8/Ly3E6dOtX9qaee+nT69OlpADBw\n4MCdt99+e9w777wz8LXXXvuxttglcRBC8cPlGyg128Oqva8r+gS5axeQEI6GGZFJ6lUiczv3QlFE\nB40CulVSUlI4AAwePDjDHs+3cOHC4du2bRteU53Fixd/VFP3AgDk5OR4MDO1adPmBgAUFxe7ZmZm\nRkyZMmWPeb0uXbr8dv78+ej6xltWVubCzOTl5VVhXu7u7l6RkpLSzpbHkMRBCMWt3RTe0k0hhBn/\n88lolXlRVabXcGyDJcnJyRFeXl4l1prya/PZZ5/FJCcnRyxbtmxP7bWBefPmHZo2bdrJmurExcXl\n13QeAF588cU7QkJCMidNmnQZAC5fvuzDzBQaGlpkXi8gIKDo3LlzvrbEZklwcHBZRESEbt26dSP6\n9++f3blz58I33nijl16vjwoICLhmy2NI4iAEgKJyA7bpqs2mkGmYQlRhwy2tDdfj4lESZtOHVLtJ\nTU0NDw8Pr3drw4wZM9JmzJiRZmv9qKioEtOYhPr605/+NP7ixYvt3nzzzffd3d3Z/BwRsbXr6usf\n//jHly+++OLdM2bM+AsRcWhoaEavXr1O6HS6cFuul8RBCADb9aUorqh6f0a1ckX/ttJNIYRJm7O/\nwie7arkdBmk6k8IanU4XHh8ff7p6+dSpU2eFhIRcT01NjSopKfF+7rnnvnz//feHZWRkhI8aNeqA\nqYVh6tSps5566qkdr7/++pj27dtnnjp1qmN+fr7/0qVL148dO/aWhKShXRVz584d/+uvv/b8z3/+\ns6Zfv37XTeXR0dHFRMSZmZmq1oXc3NxWvr6+DRq70b9//+ubNm364Nq1a+5Xr171jIuLK5w5c+a0\nwMDA67VfLYmDEACAry+oPzDc1b7pZlMQ0fsAJgHIZuaeSplNW8wTURqAAgCVACqYeUCTBCmEOYMB\nET9/pyq63q0/SkIirVygjZycHI/c3NzArl273vIHPisrK2TAgAHn3n777S0PP/zwXf/9738nrFmz\n5qOMjAzv+fPn3w9gDwBcuXKlbUJCQo6p/tatW99btmzZwE2bNnW1lDg0pKvisccem6AkDR8MGTLk\nqvk5Hx+fyrCwsPSDBw92AnDKVH727NlOffv2PXXLg9VDYGBgeWBgYLler/dKSUnpPG3atG22XCeJ\ng2jxCssN2HJZPZtiStN2U3wAYCWAtaaCOm4xP4qZr9ZwXohGFXj6MLyvVv3NZCKkD5+kYUSW7dq1\nK4yZadCgQao/8FeuXPFgZnr++ecPA4CHh0f5nXfeeSAsLKw0Pz/f3dPTs9RUz83NraKoqMjVvH5l\nZSW1bt3aYndEfbsq5syZM/HIkSN9Fi5c+ElISMiNlJQUXwAIDAwsCwoKKgOAyZMn7129evXUf/7z\nn/phw4ZdWrt27YCioiK/OXPmHDI9ztKlSxO2b9+ekJSUtBIwJk9Hjx4NBABmpszMTP8dO3aEhYSE\n3Bz38dFHH3UyGAzUq1evq6dPnw589913xwUFBV2dP3/+r7bELomDaPG2XL6Bkkp1N8XAEI8mez5m\nTlJ2ib2F2Rbzo5ssACHqwlCJiN3q1oZr3RNwIyhMo4CsS05ODvfw8Cjt27evqsl93759IdHR0XrT\nsV6vD3300Uf3A8ChQ4dCIiIisk31wsLCsvft2xcSFRV1czGktLS00HHjxtXYqlBX+/fvHwgAy5Yt\ne9C8fNy4cbtWrFixEwCefPLJk7m5uT4bN24c8fHHH/sGBwdnv/DCC+t69+5984NFXl6ez/Xr14NM\nxz/++GPE0qVLE03HW7duHbl169aR8fHxxz788MOvlWu81q9fP6agoKC1l5dXSe/evU+/8sorO7y9\nvc2Wv7NOEgfR4n1ZrZtiagdvuGg3m6K2LeYZwA/KgKl3mHmVtQeqaYdRnc5xt4Zx5Nj0en3tlTTS\nVLFF/3YMXteybh4biPBr7AAU2fh8RGS3HWWXLFmyf8mSJfurl588eTKkXbt2N1/E9evXA0zJxenT\np0NjYmKyzOplnzx5MqR9+/aZpvp6vT40ISGh1vUN6uL48eN/s6Xe4sWLDy5evPigtfNKkrHTdDx9\n+vS06dOn1/jYTzzxxMknnnii3omQJA6iRcstNWC7Tt1NMbWDprMpattifigzpxNRCIBtRHSGmZMs\nVbR2Y05OTkZUVFTDI20COp3OYWPT6/WIjHSsPn2TpoqNKivRfeNbqrKcXoMR0K0XAmx8jPT0dM13\nlE1NTQ1NSEhIBYBz5875+vr6Frq4GLdqunjxYsidd96ZbKo3aNCg1P3793c01TcYDCguLm7VqVOn\nIqtP0MJI4iBatO8vlaDMrHGuo592iz7ZssU8M6cr37OJ6CsACQAsJg5CNFTQ8b3wyq0aTmNwcUHG\n0Ik1XOGYVq1atdn0c1xcXOHWrVvfMx2vXbv2m+r1HnnkkbOmMhcXF+zevfu/9oq1ObDX7phCOKRb\nuik6+mi56FONW8wTUSsi8jP9DGAcgBN2jE+0IFRRjvBfNqnKrvYZirKAthpFJByFJA6ixcq5UYmd\n1bbQtkc3BRGtB7AXQBci0hHRI8qpW7aYJ6IIIjLdvUMB7CaiYwAOAPiembc0ecCiRWp77Bd45lct\nJGhwdUPGkDs0jEg4CumqEC3WxrQbMJtMgW4Bbujepum7KZh5lpXyhyyUpQOYqPycCqBPkwYnBAAq\nL0P4ns2qsivxw1HeOlCjiIQjkRYH0WJtuFCsOtZ4UKQQDiP46M/wKKxaSsTg5o7MIRM0jEg4Ekkc\nRIuUWVyJXzLLVGVTO/hoFI0QjsOlvAzhe7eqyrL7/Q7lvv4aRSQcjSQOokX6Oq0E5jvH9AlyRyd/\n6bkTIvjwTrgXVa2QXOnuiczbxmkYkXA0cqcULdKXqerZFPdKN4UQcCm9gbB91VobBoxERavWGkVk\nm3Xr1nVavnz5H2qqM3v27K8WLFiQ3FQxbNiwof26deuGpKenhxcVFfklJiZ+88wzzxytax1Lli1b\nNnDz5s1DioqK/Nq2bZv9+OOPbzHfNKu+j1tfdkkciCgaxnX5wwAYAKxi5v8q5+YBeBJABYyjxP9q\nj5hEy3WpsAIHrqi7KaZI4iAEQg7/BPeSqnWOKj28kJkwVsOIbDNp0qSLCQkJK0zHiYmJf4yPjz+5\nYMGCPaayyMjIBm19XZvCwkKP6Ojo7LFjxx5btWrVPfWtU93KlSt7fP755xNmzZr1/fDhwy+tWbNm\n4LJly/4QGxv7hmnvifo8bkPYq8WhAsDTzHxEmYd+mIi2wTi97G4AvZm5VFkNT4gm9UW11oaBwe5o\n5yuNb6KAKPlQAAAgAElEQVRlc71RgrD96s0RswaORqWPr5UrHIe/v3+Fv79/IQBkZmZ6FhQUtI6P\nj78UGxvboO2n6yIxMTElMTExBQBWr149pb51qtu4cePgvn37Hl20aNERABg6dOjm4cOHd169evWA\n119/fUd9H7ch7HK3ZOYMABnKzwVEdBpAJIA/AljOzKXKuWx7xCNaLmbGp+fVsylmdJJBkUKEHtwO\ntxtV740KLx9kJdyuYUT1k5SUFA4AgwcPvmUL7NosXLhw+LZt24bXVGfx4sUfmXcTNKXi4mLXzMzM\niClTpuwxL+/Spctv58+fj7ZHDJbY/WOWsitgXwD7AbwKYDgR/R3ADQDPMLPFzTxq2rCnpnNak9jq\np6liO1tIOJtX1S3hCkYfzkBdns5eG/YIYS+uJUUIObhDVZaVcDsqvZpfUp2cnBzh5eV1cwtpk6lT\np866dOlSu44dO1747LPPPrN07bx58w5Nmzatxs2f4uLi8ms635guX77sw8wUGhqq2icjICCg6Ny5\nc5o1Bdk1cSAiXwAbAMxn5nxlbf42AG4DMBDAZ0TUkZm5+rXWbswpKSkOe9OW2OqnKWNbcyAPQFXr\n5e1RXkjobvumSo787yZEfYUd2Aa30qrN3iq8WiFrQPPc2T01NTU8PDz8ltaGmTNn7i0sLDy8ZcuW\neGvXRkVFlURFRTXpWIj6UHbDdRh2SxyIyB3GpGEdM3+pFOsAfKkkCgeIyACgLYAr9opLtByVBsYX\nqepuiunSTSFaOLfiAoQc/ElVlnnbOBg8vTSKqGF0Ol14fHz86erlM2bMSPv8889jarrW0boqoqOj\ni4mIMzMzVa0Lubm5rXx9fe02fqM6e82qIADvATjNzP82O/U1gNEAdhJRHAAPAFctPIQQDbY7sxSZ\nJVVbYfq6ESa2a543RyEaS9i+H+BaXrVnS7mPH7L7j9QuoAbIycnxyM3NDezatWudxzcAjtdV4ePj\nUxkWFpZ+8ODBTgBOmcrPnj3bqW/fvqdquLRJ2avFYSiABwAcJyLT3NLnAbwP4H0iOgGgDECipW4K\nIRrDp7+pWyDvbO8FHzdZA020XG6FeQg+vFNVljl4PAwentoE1EC7du0KY2YaNGhQvRKHhnRV5OTk\neBw9ejQQAJiZMjMz/Xfs2BEWEhJyc7yFLXWWLl2asH379oSkpKSVADB58uS9q1evnvrPf/5TP2zY\nsEtr164dUFRU5DdnzpxDdXnuxmSvWRW7AVjbq7jGRTuEaAwlFYxvL6rvB/dJN4Vo4cL3boVrRfnN\n4zJff2T3HaFhRA2TnJwc7uHhUdq3b9/r9n7uH3/8MWLp0qWJpuOtW7eO3Lp168j4+PhjH3744de2\n1snLy/O5fv16kKnOk08+eTI3N9dn48aNIz7++GPf4ODg7BdeeGFd79698+ry3I1JJq+LFmHL5RIU\nlFc1ZoV6u2BEePP8VCVEY3DPv47gX5NUZRmDJ4DdPTSKqOGWLFmyf8mSJfu1eO7p06enTZ8+/W8N\nrbNixYqdAHaaly1evPjg4sWLLc44tPVxG5MkDqJFqN5NMbWDN9xcrDWCCeH8wvdshktlxc3j0tZt\ncDV+mIYRNa277rrrwaysrNDy8nKPwYMH/+X555//7K677tJpHVdzJImDcHo5NyqxXXdDVSbdFKIl\n88jLQdtjv6jKMoZMBLu5axRR0/v222/Xah2Ds5CRYcLpfZ1WggqzIbex/m7oE6TdDZKI3ieibGVQ\nsKlsCRHpieio8jXRyrUTiOgsEZ0nokX2i1o4k/BfNsHFUHnzuDSgLXJ6D9EwItGcSOIgnN6n59Xd\nFDM6esM4Q1gzHwCYYKH8P8wcr3xtqn6SiFwBvAHgDgDdAcwiou5NGqlwOp7Xr6Bt8l5VWfrQiWBX\nV40iEs2NJA7CqZ3PK79lJ0ytF31i5iQA1+pxaQKA88ycysxlAD6BcZM4IWwWvvt7EFetZ3KjTQhy\neg7SMCLR3MgYB+HU1lfb0GpwqAdi/Bz21/5JInoQwCEYd5OtPqUsEsBls2MdAKt3/Jr2+9DpHHdM\nmCPHptfrtQ7BKlti8827iqCT6kkHJ3sMgT4js6nCAhHJ/i5OxmHvoEI0VKWB8Um1borfd3bYQZFv\nAXgFACvfVwCYXa2Opf4VqwumWbsxJycnIyrK9v057Emn0zlsbHq9HpGRkVqHYZGtsXU4tAVktsZe\nSVAYeOg4RLo0XeNzenq6JAlORroqhNP6ObMU+uKqAWA+boQpHbxruEI7zJzFzJXMbACwGsZuiep0\nAMy30o0CkG6P+ETz53VFj8BTh1Rl6cMnAU2YNAjnJC0Owml9nKLuprirvRf83B3zJklE4cxsWib3\nHgAnLFQ7CCCWiDoA0AOYCeD3dgpRNHMRP38HMmugKg6JxPWu/TSMqPGsW7eu0/Lly2tchXj27Nlf\nLViwILmpYrhy5YrHiy++ODo5OblrcXFxq9DQ0Mz58+dvvuOOO6wm9xs2bGi/bt26Ienp6eFFRUV+\niYmJ3zzzzDNHzesMHTp0fn5+vn/1azt37pzy1VdffdwUr6U2kjgIp5RXZsC3F9VrN/y+cyuNolEj\novUARgJoS0Q6AC8DGElE8TB2PaQBeEypGwHgXWaeyMwVRPQkgK0AXAG8z8w1bsgjBAB4Z11G4Nlf\nVWXpw+8CyDET6bqaNGnSxYSEhBWm48TExD/Gx8efXLBgwR5TWWRkZJNulz1v3rzJGRkZoQsWLPg6\nJiYm/5NPPum9ePHiB2NiYt7o1q1bgaVrCgsLPaKjo7PHjh17bNWqVfdYqrNu3bpV5eXlN/+jLl68\n6LtgwYLHhg0bptl7XxIH4ZS+SStBSWXVp6uoVq4YHu4YS+ky8ywLxe9ZqZsOYKLZ8SYAt0zVFKIm\nET9/qzouCmuH3Ng+GkXT+Pz9/Sv8/f0LASAzM9OzoKCgdXx8/KXY2Fi7bD2dl5fndurUqe5PPfXU\np9OnT08DgIEDB+68/fbb4955552Br7322o+WrktMTExJTExMAYDVq1dPsVQnJiZG1XT67rvv9vXw\n8Ch95JFHnH53TCHsqno3xazOPnDRdu0GITThk56GNinqFnpja4Nzvh+SkpLCAWDw4MF13iFz4cKF\nw7dt2za8pjqLFy/+aOrUqZfMy8rKylyYmby8vCrMy93d3StSUlLa1TUOawwGA3755Zd+/fr1Sw4I\nCCiv/YqmIYmDcDq/5VVgX7Z67QYHnk0hRJOKrNbaUBjRAXmdemoUTdNLTk6O8PLyUm0nffLkydZ/\n/etfpxYWFrZydXWtvO+++3Y99thjp6tfO2/evEPTpk2rsQsgLi4uv3pZcHBwWUREhG7dunUj+vfv\nn925c+fCN954o5der48KCAioz5otFq1fv75TXl5ewMyZM4801mPWhyQOwulYWruhQ2v5VRctTyvd\nb/BPVf8dTB/hvK0NAJCamhoeHh6uam1wd3c3/OUvf9kyZsyYzNTU1Fb333//o/fdd9/56p/ao6Ki\nSqKiouo1FuIf//jHly+++OLdM2bM+AsRcWhoaEavXr1O6HS68Ia8HnMbN27sFxYWlj5mzJimW3jD\nBnI3FU7FwIxPflMnDtLaIFqq6q0NBdGdkR/TTaNo7EOn04XHx8erWhPi4uIK4+LiCgGgY8eORV5e\nXjcuX77sExAQkGder75dFQDQv3//65s2bfrg2rVr7levXvWMi4srnDlz5rTAwMDqC7nVS2pqaqsz\nZ850nTVr1veN8XgNIYmDcCo/Z5RCV9Q81m4Qoin5XjqH1mlnVGXOPLYBAHJycjxyc3MDu3btanV8\nw5YtWyIMBoNLjx498qqfq29XhbnAwMDywMDAcr1e75WSktJ52rRp22x/Bda9++678a6urhWPPPKI\npanadiWJg3AqHzajtRuEaDLMiEzaqCrKb98FBe27aBSQfezatSuMmWnQoEEWE4dLly55/8///M89\nTz/99EYXCwtfNaSr4qOPPupkMBioV69eV0+fPh347rvvjgsKCro6f/78m/Ngly5dmrB9+/aEpKSk\nlYAx0Tl69GggADAzZWZm+u/YsSMsJCRENUbDYDDg559/7te7d+8TwcHBZbc+u33ZJXEgomgAawGE\nATAAWMXM/yWiJQD+COCKUvV5S7sCCmGLazcqsTGt+hLTjrF2gxD21DrtNPwun1eV6UdM1iga+0lO\nTg738PAo7du37y3dA4WFha5z586dOWXKlJ8nT5582dL1DZGXl+e1fv36MQUFBa29vLxKevfuffqV\nV17Z4e3tbTCr43P9+vUg0/GPP/4YsXTp0kTT8datW0du3bp1ZHx8/LEPP/zwa1P5F198EZObmxs4\nY8aMLxs77vogZqtL3TfekxCFAwhn5iNE5AfgMIApAGYAKGTmf1m6Li8vr9bgUlJSHHYddImtfuob\n25snC/H8garWxw5+rjh8b2ijTsO0JTZ/f3/N2oJtec/IXhX1s3//fnTo0EHrMCxS7VXBjK5r/xe+\n6Rduns/r2AMp983TJLb09HSMHj26xjq2vmfy8vJ8rl279nJRUVGdWgUMBgPuv//+eyMiInJWrFix\nsy7XCgAABQcHnwwNDf0MsFOLg7KUbobycwERnYZxpz8hGgUz48NzRaqyB+JaydoNosXx/+2EKmkA\nlD0pWrBvvvmm3YkTJ3pmZWVljR49uisAvPTSS1+OHDkyW+vYmiO7j3EgohgAfQHsBzAUtW8lLESt\nDl4pw+ncqrVXXElmU4gWiPmWVSJzO/dGUYRjtpTYyz333HPpnnvu+ZvWcTgLuyYOROQLYAOA+cyc\nT0S2bCUMABb3c7flnNYktvqpa2wrUzxg/us8rE0FCvSpsLhAfANZis1Ru31EyxKQcgytMtUzBfUj\n7tIoGuGs7JY4EJE7jEnDOmb+EjBuJWx2fjWA76xdb+3G7Ix99fbgTLHllxmwfV8mYLbz3+P9QhEb\n7aV5bELYDRtuaW241qUvSkKjrVwgRJ3cHORpl3lqREQwbuJzmpn/bVZuvqKWta2EhajRlxdKUFxR\nlTRE+Ljg9khPDSMSwv7anPkVPtn6m8cMcsaxDaUuLi6VtVcTjcnV1dWDiG4OI7BXi8NQAA8AOE5E\npr3Gnwcwy9JWwkLUxZpqgyLvj20FVxcZFClaEIOF1oZu/XEj2LnGoPv7+1cWFhZmAAiqtbJoNJ6e\nnq6enp6HTcf2mlWxG4ClO7ms2SAaJDmnDL9erVpungD8IVYGRYqWJSrtJLxzqrYvYHLK1gYAgKen\n52ZfX985hYWFN7SOpSVwc3Pz9PHxOe7v7597s0zLgIRoqA/PqVeKHBXhifZ+jv1rTUTvA5gEIJuZ\neyplrwK4C0AZgN8APMzMuRauTQNQAKASQAUzD7BX3MJBGSrR5ViSqiinxyCUBoVpFFDTatu27Xlm\nXuXh4TG+oqIinJk9tI7JSVW6urrmenh47PP09NxqfsKx77BC1KC4woBPU9WJQ2KXZrFS5AcAVsK4\nmqrJNgDPMXMFEf0TwHMAFlq5fhQzX23aEEVzEXRiP3wLqnZuZnJBxtCJGkbU9IKDg1MBvAUAeXl5\nsqZ802B/f3+LC8pJ4iCarS8vlCC/rOr3uq2XC+5ogpkUjY2Zk5T1TMzLfjA73Adgmj1jEs0TVVYi\n4hd1j+/V3oNRGhiiUUT25+/vb6i9lmhMkqmJZuv9M+pBkb/v7AMPV6cYFDkbwGYr5xjAD0R0mIge\ntWNMwgEFJe+BZ25V45PBxdXpWxuE9qTFQTRLv14twxGzQZEA8HDz6KaoERG9AKACwDorVYYyczoR\nhQDYRkRnmDnJUsWaFtHS6XQNjrWpOHJser2+9kp24lJZge5J6pkUFzvH40LhDaDQceIkIlk0zclI\n4iCapfeqtTbcHumJDq2b968zESXCOGhyDFvZfY6Z05Xv2UT0FYAEABYTB2s3Ztnkqn5UG0k5gODD\nO+FTnH/z2ODqhvyx0xDZuo2GUd0qPT1dkgQnI10VotnJLTVgQ6p6c7zZXZt3awMRTYBxMORkZi62\nUqeVsrssiKgVgHGQRdNaJCovQ/gedW/Wlb7DUe5gSYNwTpI4iGbn4/PFKKms+kAe1coV46Mcf1Ck\nCRGtB7AXQBci0hHRIzDOsvCDsfvhKBG9rdSNICLT6LdQALuJ6BiAAwC+Z+YtGrwEobGQX5PgUVi1\nhXyFqxsyBk/QMCLRkjTvtl3R4jDzLYMiH+rSvFaKZOZZForfs1I3HcBE5edUAH2aMDTRDLiUlSJs\nr2paPS50GYgKX3+NIhItjbQ4iGYlKaMU5/Orts92dwEekJUiRQsScmQn3Iur9n2tdPfE+Z6DNYxI\ntDSSOIhm5d1qrQ2T23sj1MdVo2iEsC+X0hsI3feDqix7wCiUeTXvMT6ieZHEQTQb6UWV2HRJvTx9\ncx8UKURdhB76Ee4lVclzhacXMgeN1TAi0RJJ4iCajTXnimA2JhLdAtwwJFSWqRctg+uNYoQe2K4q\nyx44BpXekjwL+5LEQTQLZZWMNWfV3RSzu7YCUfMZFClEQ4Qe2AG3G1UzdSu8fJA1cIyGEYmWShIH\n0Sx8k1aCzJKqJelbuRHu6ySDIkXL4FpciNCDO1RlWQm3o9JL3gPC/iRxEM3C26cKVce/7+yD1h7y\n6ytahrAD2+BaVjW+p9y7FbIGjNYwItGSyZ1XOLyD2WU4XG1fike7S7+uaBncivIRcminqizztvEw\neDafRc+Ec5HEQTi86q0NYyM9EevvrlE0QthX2L4f4FpeevO43McPV/r9TsOIREsniYNwaOlFlfgm\nTb0vxdwevhpFI4R9uRfmIeTILlVZxuAJMHh4ahSREDYsOU1E/QDcCeNStwEAcgEcA7CZmQ/Z8iRE\nFA1gLYAwAAYAq5j5v2bnnwHwKoBgZr5q+VFES/TemUJUmE3BjPN3w+gIuWmKliFszxa4VFR105X5\n+uNKvxEaRiREDYkDEY0D8A8YN97ZBeAXAAXKcTcA64ioEMDzzLzV2uMoKgA8zcxHlN39DhPRNmY+\npSQVYwFcavjLEc6kpILxf2fVG0U+1l2mYIqWwT3/OoKP/qwqyxhyB9hNuumEtmpqcXgMwJ+Y+aC1\nCkQ0EMatgGtMHJg5A0CG8nMBEZ0GEAngFID/APgrgG/qFrpwdp+nFuNaadUUzNYehJkyBVO0EOF7\nNsOlsmpfltLWbXC1z1ANIxLCyGriwMz31naxklRMq8sTElEMgL4A9hPRZAB6Zj5W26fIlJSUep3T\nmsRWP+fOpeD1X71gPgznruAypKf9pl1QCkv/brGxsRpEIpyVR+5VtD32i6osY+hEaW0QDsGmbbWJ\n6N8A1jLz0YY8GRH5AtgAYD6M3RcvABhny7XWbswpKSkOe9OW2OonJSUFWX7tcL64ariLCwF/HRyF\n9n7a7gTvyP9uwnmE/7IJLobKm8c3Atoip9cQDSMSooqtsyrcAWwlohNEtJCIour6RETkDmPSsI6Z\nvwTQCUAHAMeIKA1AFIAjRBRW18cWzmflSfUUzInRXponDULYg+e1bLQ9vk9VljH0TrCr7AIrHINN\niQMzzwMQAWARgHgAp4loOxE9qLQi1IiM/RDvATjNzP9WHvM4M4cwcwwzxwDQAejHzJn1fC3CSaQW\nE7ZeVu+C6UxTMInofSLKJqITZmWBRLSNiFKU722sXJuo1EkhokT7RS3sJfyX70FcNbbnRmAocnom\naBiREGo2r+PAzJXM/B0zzwJwG4BgAB8AyCSid4kosobLhwJ4AMBoIjqqfE1sSODCeX2sV/fj9mvr\njqEOtAvm888/j+Tk5IY8xAcAJlQrWwRgBzPHAtihHKsQUSCAlwEMApAA4GVrCYZonrxyMhF08oCq\nLH3YnYCLtDYIx2Fz4kBErYnoESL6CUASgP0AhsM4NbMQwGZr1zLzbmYmZu7NzPHK16ZqdWJkDQeR\nWVyJTdnqm+RTPf0cagpmeXk57r33XgwePBivvfYa9Hp9na5n5iQA16oV3w1gjfLzGgBTLFw6HsA2\nZr7GzNcBbMOtCYhoxiJ+/g7EVQuXlLQNx7VuAzSMSIhb2ZQ4ENEXAPQApgJ4G0AEMz/KzL8w82UA\nf4FxvIIQDbLqdCHKuSpJaO/rikntHWtN/ldffRVnzpzByy+/jOPHj2PQoEG4++67sX79ehQWFtb+\nAJaFKtOWTdOXQyzUiQRw2exYp5QJJ+CdrUeb04dVZenDJwEussCvcCy2jjbbB+BJa+MPmNlARKGN\nF5ZoiQrKDXjvTJGq7IkevnBzcZzWBhNXV1dMmDABEyZMwOnTpzFnzhw8/vjjeOaZZ1BUVPQugJeZ\nuW5NEbWz9A/BFsoA1DzdVqfTNUY8TcKRY6tr61JdDNz5OcjsvzOvTQhO+IYCNj5nU8bWEEQkU5id\njE2JAzP/y4Y6xbXVEaImH54rRl5Z1Y2zjSfh/ljHXPApPz8fX3/9NT777DOcPHkSkydPxooVKxAV\nFYWePXuauu561+Ehs4gonJkziCgcQLaFOjoAI82OowDstPaA1m7MycnJiIqq88Qou9DpdA4bm16v\nR2Rk0zTweGdeQsSlM6qyK6OnItLGf4umjK2h0tPTJUlwMjUtOX0QwP8C+IaZyyyc94CxH/ZpZh7U\ndCGKlqDCwHiz2hTMOV190crd8ZppH3zwQfz4448YMmQIZs+ejTvvvBOenqr9M/4CIK+OD7sRQCKA\n5cp3SyupbgXwD7MBkeMAPFfH5xEOKPLnb1XHRWHtkRvbR6NohKhZTS0OiQCWAniLiI4AOIuqvSri\nAPQD8COAh5o4RtECfJ1WAl1R1YI3nq7Ao91aaRiRdQMHDsSrr76K0FDLvXO1dd0R0XoYWw7aEpEO\nxpkSywF8RkSPwLhvy3Sl7gAAc5l5DjNfI6JXAJiWgV/KzNUHWYpmplX6BQScP64q04+4C3CgAcFC\nmKtpyelTAKYpCzKNBdALQFsA12Hc6fIBZrbUnCpEnTAzXj+ubm2Y1ckHwd6OOQVt3rx5tdapqetO\nmdJsyRgLdQ8BmGN2/D6A92uPUjQXEUnq1obCiA7I79hDo2iEqF2NYxyIaBYzrwfwoZ3iES3QzvRS\nJF+r2jqYwHiyp/Ms+CSENb668/C/cEpVph8xWVobhEOrrQP5HbtEIVq0fyUXqI5/F1iJzv6ymY9w\nftVbGwqiY1EQ01WjaISwTW2Jg6S9okntyyrFL5nqsbcPRVdYqS2E8/C7eBatL55VlcnYBtEc1DYd\n05WIRqGGBIKZf2zckERLsuKYurVhZIQnevjJzF7h5JhvaW3Ij+mKwnZxGgUkhO1qSxw8Ydycylri\nwAA6NmpEosU4erUM2/SlqrKne/sBhdc1ikgI+2h94TT8dOdVZfrhkzWKRoi6qS1xKGJmSQxEk/h3\ntbENg0I8MCzMA+fPW7lACGfAjIikjaqivI49UBQlt1rRPDje6jqiRTiTW46NF9VbZz/d27E2sxKi\nKfj/dgK+GWmqMv0IaW0QzYcMjhSaqN7a0DvQHWOjPK3UFsJJMCOi2iqR12N7ozi8vUYBCVF3NSYO\nzOxnr0BEy5FWUIENqSWqsqf7SGuDcH4B546iVeYlVVm6jG0QzYx0VQi7ey25AJVmezp28XfDXQ62\ndbYQjY4Nt7Q2XOvaDyWhjrmplxDWSOIg7OpSYQXWnVdPt1zQ2w8u0tognFybM0fgcyX95jGDkD5s\nkoYRCVE/kjgIu1pxrADlhqrj9r6umNbRW7uAhLAHgwERP3+nKrrWfQBuBEdoFJAQ9WeXxIGIoono\nJyI6TUQniejPSvkrRJRMREeJ6AcikneRE0srqMC6FHVrw1/j/eDmIq0NwrkFnjoI75zMm8dMhPRh\nd2oYkRD1Z68WhwoATzNzNwC3AXiCiLoDeJWZezNzPIDvALxkp3iEBl49VoAKs7ENHf1ccV8nH+0C\nEsIeDJWI2K1ubcjpOQilQWEaBSREw9glcWDmDGY+ovxcAOA0gEhmzjer1grGlSiFE0rNr8An1cY2\nLOzbWlobhNMLOrEfXtev3DxmckH6UGltEM1XbStHNjoiigHQF8B+5fjvAB4EkAdglL3jEfbxv0fz\nVTMpYv3dMK2DjG0Qzo0qKxCx+3tV2dXeg1HWJlijiIRoOLsmDkTkC2ADgPmm1gZmfgHAC0T0HIAn\nAbxs6dqUlBSrj1vTOa1JbEBaMeGz37xgvp5YYlgRUn+zvrZ0c/t3i42NbfDjElEXAJ+aFXUE8BIz\nv2ZWZySAbwBcUIq+ZOalDX5y0SSCkvfAMy/n5rHBxRUZQydqGJEQDWe3xIGI3GFMGtYx85cWqnwM\n4HtYSRys3ZhTUlIa5abdFCQ2o//ddQ0GVC341DXADX+6LQKuVropWuq/GzOfBRAPAETkCkAP4CsL\nVX9mZpnH5+CoohwRv2xWlV2NH4Yy/yCNIhKicdhrVgXBuMvmaWb+t1m5+R14MoAz9ohH2M+Z3HJ8\nUW2VyEXxra0mDeKmMQB+Y+aLWgci6qft0d3wKKja6dXg6oaMIRM0jEiIxmGvFoehAB4AcJyIjipl\nzwN4RGmeNQC4CGCuneIRdvL3I/mqEa/d27hhcoysEmmDmQDWWzk3mIiOAUgH8Awzn7RUqabuHp1O\n1+AAm4ojx6bX622q51JRjp7VxjZciOuHtPxiIL/YylUNY2ts9kZETda9J7Rhl8SBmXfD8oZZm+zx\n/EIbB7PL8G21HTAXxbeWVSJrQUQeMLbAPWfh9BEA7Zm5kIgmAvgagMU7sLUbc3JyMqKiHHOZY51O\n57Cx6fV6REZG2lQ39MB2eJUU3jyudHNHwe33ItLXX/PY7C09PV2SBCcjK0eKJsHMePlQnqqsf1t3\n2ZPCNncAOMLMWdVPMHM+MxcqP28C4E5Ebe0doLDOpewGwvZuVZVd6T8SFU2UNAhhb5I4iCaxTVeK\nPVllqrKXB/jLDpi2mQUr3RREFKaMGQIRJcD4Hs6xVFdoI+TwLrgXV20bX+nhiczbxmsYkRCNy+7r\nOAJKgf0AABzFSURBVAjnV2lgLDmsbm24PdITI8I9NYqo+SAiHwBjATxmVjYXAJj5bQDTAPyJiCoA\nlACYycyycJqDcCktQdi+H1Rl2QNGocLHV6OIhGh8kjiIRvd5aglOXa9Qlb3Uv7VG0TQvzFwMIKha\n2dtmP68EsNLecQnbhB78EW43im4eV3h6ITNhrIYRCdH4pKtCNKrSSsbff81Xlc3o6I3eQR4aRSSE\nfbiWFCH0wHZVWdbA21Hp3UqjiIRoGpI4iEb13pkiXC6svHns7gI8309aG4TzCz24A26lVWuWVHj5\nIHvgGA0jEqJpSOIgGk1emQH/OlagKnu4SyvE+EmPmHBursWFCD34o6osc9BYVHrJfizC+UjiIBrN\nimMFuFZquHns60Z4to+fhhEJYR9h+7fBtaxqzZJyb19kD5A9+4RzksRBNIrU/Aq8dapQVTavly+C\nvV01ikgI+3ArykfI4Z9UZZmDx8HgIWuWCOckiYNoFC8dzEN5VWMDIn1cMa+nTEETzi9s3w9wLa9a\ns6S8VWtc6TdSu4CEaGKSOIgGS8ooxXeX1EtLvzygNXzc5NdLODf3glyEHNmlKssYPB4Gd5lFJJyX\n3NlFg1QaGM8fUC/2NCDYHdM6yqAw4fzC9m6BS0X5zeMyvwBc6TtCw4iEaHqSOIgGWXe+GCeulavK\n/ichQDayEk7PI+8ago/uVpVlDLkD7OauUURC2IckDqLe8ssMeOWwerGn6R29MTBEmmmF8wvbuxku\nlVUrpJa2DsTVPkM1jEgI+5DEQdTbv5MLcOVG1YhIb1fCy7K0tGgBPHKvou2xX1RlGUMngl1lzRLh\n/CRxEPWSkleON07eOv0yyldunML5RfyyCS6GqqT5RkBb5PQarGFEQtiPJA6izpgZz+5TT78M93HB\nn2X6pWgBPK9lIej4PlVZxrBJYFdZs0S0DJI4iDr76kIJdqaXqsr+PtAfrdzl10k4v4jdm0BclTWX\nBIYip8dADSMSwr7kTi/qJL/McMv0y5ERnring0y/FM7P62oGAk8eUJVlDJsEuEhrg2g57JI4EFE0\nEf1ERKeJ6CQR/Vkpf5WIzhBRMhF9RUQB9ohH1N/yo/nILKn6tOXuArx6mz9Ipl82CiJKI6LjRHSU\niA5ZOE9E9DoRnVfeN/20iLOlitj9HQh887ikbQSude+vYURC2J+9WhwqADzNzN0A3AbgCSLqDmAb\ngJ7M3BvAOQDP2SkeUQ8nrpXjnVNFqrKnevoi1l/mrTeyUcwcz8wDLJy7A0Cs8vUogLfsGlkL5p+b\njcDTh1Vl+uGTAJKGW9Gy2OU3npkzmPmI8nMBgNMAIpn5B2Y2TYTeByDKHvGIujMw4+m9uais+rCF\naF9XPC27X9rb3QDWstE+AAFEFK51UC1B9xPq6ZfFodHI7RKvUTRCaMfuc+eIKAZAXwD7q52aDeBT\na9elpKRYfcyazmnNWWLbmOmK/dmeqrI/RxdDf+G3xg4LQPP7d4uNjW2sh2cAPxARA3iHmVdVOx8J\n4LLZsU4py2isAMSt3C//hnDdOVWZtDaIlsquiQMR+QLYAGA+M+eblb8AY3fGOmvXWrsxp6SkNOZN\nu1E5S2xZxZV4/UAWYNa3OyHaC3Nui9Q8NnuzQ2xDmTmdiEIAbCOiM8ycZHbe0mAStlBWY/Kl0+ka\nFmUTcsTYun79ger4elAETnkHAXq9NgFZoHegWMwRUVMn28LO7JY4EJE7jEnDOmb+0qw8EcAkAGOY\n2eINUGjr2X25yCur+q/xdiUsH+SvYUTOi5nTle/ZRPQVgAQA5omDDkC02XEUgHRLj2XtxpycnIyo\nKMfsFdTpdA4Xm0faWQSmnlSVXRlzLyIdKE69Xo/IyKZJ5BsqPT1dkgQnY69ZFQTgPQCnmfnfZuUT\nACwEMJmZi+0Ri6ibby+WYONF9ZbZz/fzQ4yfrBDZ2IioFRH5mX4GMA7AiWrVNgJ4UJldcRuAPGaW\nboomci7fgLTPPlOVFUZ2RH7H7hpFJIT27HX3HwrgAQDHieioUvY8gNcBeMLYJAsA+5h5rp1iErXI\nLTXg2b25qrK+bd3xp+6yQmQTCQXwlfJecAPwMTNvIaK5AMDMbwPYBGAigPMAigE8rFGsTi2/nPHa\nmXJ8eKES4e0fxv/zCcSdqT/BhQ3Qj5gMyPRj0YLZJXFg5t2w3De7yR7PL+rnpUN5qjUb3Aj4f0Pb\nwM1FbppNgZlTAfSxUP622c8M4Al7xtWSGJjx+aVK/OtUOXLKjGU6ryDcEz0bf+8Yj/vLU1HQvou2\nQQqhMWlvFhbtSr+BtefUvUfze/mhZ6Cs2SCc06/XDFhyvAzHcy0Ptdru1h5jBkhfvRCSOIhb5JUZ\n8MRudRdFnL8bnpE1G4QTunKD8b+nyrHhcqXF81E+hBd6uMP/kh5AB/sGJ4QD+v/t3Xl4lPW1wPHv\nmSWZ7AlhXwSEILsLFhdQcWuRumCt1rW2tVqtuNuqrcVK7X309mprpWjdqq3W5baleiu4FMG1oOIC\nxIBhlSQQCNnIPpOc+8cMwiSTMGGZdyZzPs/jk8k723GY35vz/pbzs8TBdHDHshpK6nefRAX4/ZRc\nfB4bojA9R0ub8uf1AX6/JkBdoOP9qS64ZpSHq0Z68LmFZZs7PsaYZGSJgwnzyqZG/ro2fIji2nGZ\nHNsvtZNnGJN43tnWypyVftbVRR6WOGOgi5+N8zIo3Qo8GdOeJQ7mK9sbW7nh/fAhitG5Hu48Ktuh\niIw5sL6sb+PXq/y8sbUt4v2jsoTZE7wc38d2uzSmM5Y4GABUlZver6aiKXwVxSMn5NkQhUl4jQHl\nkeIAf1wboCVCzpDlgZtGe7lkuBuvrRoypkuWOBgAnilu4F9fhhd6uu2ILI7oneJQRMbsP1VlQVkr\n/1UYYEtjx2EJAS4Y6uaWMV56p1rCYEw0LHEwrKn2c9uymrBjk3p7uWmiraIwiWt1bRtzVvpZWhF5\nWOLIPGH2hBQOz7N5DMZ0hyUOSa4poPxgSSUNgd1XY+ke4ZETrdCTSUw1LcGqj89sbA3bBn6X3qlw\n+1gvM4e4cVkFSGO6zRKHJPeLD2sorApfi3bfMTkU5FihJ5NYWlX5302t/E+Rn8qWjvd7BL4/wsOs\nUR6yvJYwGLOvLHFIYv/a1Mhjq+vDjp03PI1LC9IdisiYfbO8spW7V/hZVRN5eeUJfVzMnuBlRJYN\nSxizvyxxSFJlTcKsD6rCjg3LcvPA8bmIdd+aBLGtSbmv0M/8kshVH4ekC3eO93Jaf5d9r405QCxx\nSEKNAeW2olSqW3ZfnXkEnjipFzkpdkVm4l9Lm/LUugAPrQlQHyFn8LnhxwUerhzpIdVtCYMxB5Il\nDklGVbl1aTWr68MThNmTspnUx5Zemvj3Vnmw6uOG+sjDEmcOcnP7OA8D0ywJNuZgsMQhyTz9RQPP\nFoeXlJ5xiI9Z4zMdisiY6Gyqb+OeVX4WdVL18bBs4a4JXo7tbVUfjTmYekTioKo2fhmF5dtb+OnS\n8JLSI7M9PHxCni1LM3GrIaDM+yLA4+siV33M9sLNo71cPMxtS4iNiYGE78vb2CCcsaCC97Y2Ox1K\nXNva0Mp336wMO/FmeIS/nGLzGuKFiAwRkcUiUiQihSJyQ4THTBORGhH5NPTfbCdijQVV5f9KApy2\nqIl5xR2TBgEuGurmzVN9fPdQjyUNxsRIwvY4tLYpfyis455PfLRoC7PereK9mX1J99gfwfYaAm1c\ntGgHpQ3hs8jmTs1lTJ7Va4gjAeAWVf1YRLKA5SLyhqp+3u5x76jqmQ7EFzNFNW3cvdLPBzsiD0tM\n6uXirglexudaezcm1mLS6jq7khKR80O/t4nI0d15zU92+Jn9US0tGrzK2LCzlXs+rj0I0Se2NlWu\nfruKTyr8YccvHujn3OFWryGeqOoWVf04dHsnUAQMcjaq2KoNCLM/a+GsJc0Rk4a+qfDAUV5enJpi\nSYMxDolVy9t1JTUGOBa4VkTGAquAbwFvd/cFj+6Twg9HZ4Qde7iwnqXlNmSxp3s+ruXlTeGbV50+\nKJXrhvs7eYaJByIyDDgSWBbh7uNE5DMRWSgi42Ia2EHSqsqzGwJcvCqXZza20j5l8ApcNdLDv0/1\nMXOIx+Y0GeOgmAxVqOoWYEvo9k4RKQIGqeobwD6fBH55dDYLNuykrDmY/ygw691q3j6njw1ZAM8W\n1/PAirqwY2NzPTwxrRflm6o6eZZxmohkAn8HblTV9t1oHwNDVbVORGYA/wQKIr1OcXFxp+9RUlJy\ngKLdfyvqPDz4ZQbFjR4iXcsck93C9UPqGeJro7ocqju+RMyUlpY6+O5di9fYRCTid7GgIOLX1iSA\nmM9x2MuVVLdkel38vKCFa1f5vjq2tjbAHctqeHBK3v6+fEJ7fXMTN7wXfortm+bi+dPzyU5xUe5Q\nXKZrIuIlmDQ8q6r/aH//nomEqi4QkXki0ltVK9o/trMT84oVKxg8ePABjHrfbG1U7vvcz0udVH0c\nmhGs+nhKPx8iOTGOrqPS0lIGDYrPkaN4jq2srMyShB4mponDXq6kutTZ1dPkXDi3v5/5W3dP8nv6\niwYOkypO7xP5hBRLXV31HSyf1riYVZhKQHf35KS6lPtGNdC8ZQO7InIitmglWmwH4sQowa63J4Ai\nVX2gk8f0B8pVVUVkMsFL9B37/eYx1Nyq/Gl9gLlrAjREaKJpbrh2lIcrRljVR2PiUcwSh71dSe1N\nZyfm4uJiHjrtEFa8vI11tbvPQveu9zFjQl+GZTm3cKS4uDjmmfbKSj+3fLCd5rbdVfUE+OOJ+cwc\nnuZobNFK4timAJcBK0Xk09CxnwGHAKjqI8C3gWtEJAA0AheqauQSinHoza2t/GqVn02dVH08La+Z\nu7+Ww4A0SxiMiVcx+asazZXU/sj0unhyWi9O/9f2r9Z61/qVK5ZUsnBGH1KS5KplfW2A816voLYl\n/KR8/3G5YUmDiU+q+i7BPK+rx8wF5sYmogNnQ12w6uPi8sjLK8dkC3dN9DKwcQcD0nJjHJ0xpjti\nNYNw15XUKXsUrpkhIueKSAlwHPCKiLy2r29weH4Kc74WPg66vMLPbcuqSaALsn22cWeAs1+tYFtj\n+In5zqOy+UG71SfGxEp9QPnvz/2csbg5YtKQ64U5E728dFIqk/OtVLQxiSBWqyq6upKaf6De50dj\nMlhS1syrm3cvP/zTmgbG5Xn54ZieuxfDhtoAZ71aQUm7bQKvGZvBLRN77v+3iV+qysulrdxb6Ke8\nqeP9LuCiYW5uHuMlLyU5egSN6Sl61JpFEWHe1FyGZoZfudy2rIa3ynpmfYd1NQG+uXB7h6ThopHp\n/Hpyjq13NzH3eU0b33m3hZuWR04aju7l4uVpqfzq8BRLGoxJQD0qcQDo5XPz3Gn5ZHp2n5BaFb63\nZAdra3pW0aMVO1qYsXA7ZQ3hXcAXjEhj7pRc27jKxFRVi3LnZy2cvaSZjyo7Dkv088HvJnl5YWoK\nY3N63KnHmKTRI1vv2Dwvj56UFzY2UtWsnPv6DsrqnV+ieSC8s6WZMxdWUN5uTsNFI9N5eGoebtvw\nx8RIoE35y4YAp/y7ib9GqPqY4oKrC4JVH88ebFUfjUl0PTJxAJhxSBp3HpUddmxzXSvfer2CyqbE\nTh5e2tgYXD3hD5/0eUlBOnOn5FrSYGLmg4pWznmrmbtW+InUoXdKPxcLT07lp2O9ZHjse2lMT9Bj\nEweAmydmcklB+EZOq6sDzHxtR0ImD6rKbz6t5fLFlR22GP7xuAwesqTBxMiWRuX6j1q48L0Wimo7\nrloaliE8cWwKjx+byvDMHn2aMSbpJOy22tEQER48Ppeq5jYWfLl7ltaKSj9nvVrBS9N709uXGEvA\n6v1tzHq3mvkbGzvcN+fobK4bn2ldwOaga25VHl8XYN4XARoj5N7pbph1mIfvH2pVH43pqXr8pYDH\nJTx5Ui+m9k8JO15YFWDGggo27Qw4FFn01tb4mb6gokPS4BaYNzWX6ydkWdJgDipVZdHWVqYvbub+\noshJw8zBbhad6uPqAq8lDcb0YD0+cQDweYQXTsvnhHbJwxc1AU5/ZTufVLQ4FNnePbe2gZNe3s7K\nyvAB5F6pLuZ/ozcXF1hxJ3Nwra9r4wdLW7hyWUvEUtFjc4QXp6bwwKQU+lmpaGN6vKRIHAAyvC5e\nOD2fkwemhh3f1tjGNxdW8OK6Bocii6yyqZWr3qrkmneqqA+En6zH5np486w+nDggtZNnG7P/6vzK\nvYV+znizmbe2dVxemZcC9xwerPp4tFV9NCZpJE3iAJDucfHcqfnMHBa+b0NDQLnq7Spuer+KpoCz\n5alVlb+tb2Dy/G28uL7jfIaZw9J47cw+jm7eZXo2VWX+5gCnLmri0bUB2i3ewQVcNjw4LHHxMA9u\nGyYzJqkk3V8fn0d4cloeh3zk5ver6sLu+9OaBt7b2sLcqblM7hv7q/k11X7u/KCGN0o7VrlMcwv3\nHpPDd0el23wGc9Csqm7j7pV+lkco4AQwOd/FXRO8jLECTsYkraRLHABcIsz5Wg4FOR5uXVpN8x4T\nvb6oCfCNVyr44egMbj8yi/wYrLooq2/l3k9reaa4gbYIHR5j8zw8Oa0Xo3O9Bz0Wk5x2NCsPFPl5\nflMrkfrcBviEO8Z7+OZAtyWuxiS5pEwcdrlsVAaH53u5fHElG3buzh4UeGx1PS+sa+DGiVlcMTqD\nnJQDf4W1utrPw4V1vLCugUhlJVJccOvhWdw4IStptgY3sRVoU57d2MpvV/upjVDAKcUFV470cE2B\nh3Qr4GSMIckTB4CJ+Sm8dXZffvFhDU9/ET5BstavzFley29X7OSyUelcWpDB2Lz9u+qv87ex8Msm\nnlvbwJtdbLx1XL8UHjw+l1HWy2AOkqUVrdy90s+aCAWcAE7r7+Ln470MzbBhCWPMbkmfOABkp7h4\ncEoe5w5P48b3q9m4M/zyf6dfmVdYz7zCesbleZg+xMeJA3xM6uMl09v1SbW5VVld7ec/5S0sLmvm\nnS3NNHQxAXNktofZk7I5a6jPuoSTkIhMBx4E3MDjqnpvu/tTgT8Dk4AdwHdUdWN33qO8xcV9H7bw\nSlnk6qnDM4TZE7yc1M9WShhjOrLEYQ/TBvpYdm4/Hi2q4zef7aS2peMf+MKqAIVVddy/Ijixckim\nm+FZHnqlushOEdoUWlqVbU1tbKrysfm9MqJZqDE4w83NE7O4bFQ6XisbnZRExA38ATgdKAE+FJGX\nVfXzPR52BVClqiNF5ELgPuA70b7Hk6vruWNVLs3aMWnIcMP1oz1cfqiHFPsOGmM6YYlDO6lu4brx\nWVxakMHjRXU8WlTP9qbIM8whuHHW5rrO9r3Yexfv5D4p/HhcJmcO9eGxk3WymwysVdX1ACLyPHAO\nsGficA7wy9DtvwFzRURUNap1xL19Lpq14/fsW0Pc/HSsl74++w4aY7pmiUMn8lJd/OSIbK4bn8U/\nNzby4roGlmxpjrjqobsGpbs579A0zjs0jcPzU/b+BJMsBgGb9/i9BDims8eoakBEaoB8oKL9ixUX\nF3d4g9EKk7I8LN8Z/N4dlh7ghiH1jM8M0FIRfEOnlZTEQxSRlZaWOh1Cp+I1NhGJ+F0sKChwIBpz\nIFjisBc+j3DhyHQuHJnOtsZWlpQ189aWZpaVt7B+ZyCqRGJwhpsJvbwc3z+Fkwf6GJfnsfkLJpJI\nX4r237BoHgN0fmK+vqqQn6xL4aYxXr59iA+3ZHUvyoOopKSEwYMHOx1GRKWlpQwaNMjpMCKK59jK\nysosSehhYpI4iMgQghO6+gNtwKOq+qCI9AJeAIYBG4ELVLUqFjHti75pbi4Ykc4FI4JbdTcFlHW1\nAbY2tlLZ1EadX3G7wCOQ73PjryhhythDyUu1WekmKiXAkD1+HwyUdfKYEhHxADlAZXfeZHhaK29/\n3WfzGIwx+yRWPQ4B4BZV/VhEsoDlIvIG8D1gkareKyK3A7cDt8Uopv3m8wjjenkZR+Qlk8VNakmD\n6Y4PgQIRGQ6UAhcCF7d7zMvA5cB/gG8Db0Y7v2FPljQYY/ZVTP6qqeoWVf04dHsnUERwrPYc4OnQ\nw54GZsYiHmPikaoGgFnAawTbyIuqWigic0Tk7NDDngDyRWQtcDPBZNsYY2Im5nMcRGQYcCSwDOin\nqlsgmFyISN9Yx2NMPFHVBcCCdsdm73G7CTg/1nEZY8wuMU0cRCQT+Dtwo6rWdmeCYKRZudHc5zSL\nbd8kWmw2+csYkyxiljiIiJdg0vCsqv4jdLhcRAaEehsGANs6e35nJ+bi4uK4PWlbbPvGYjPGmPgV\nkzkOEuxaeAIoUtUH9rhr10QvQj9fikU8xhhjjNk3sg8Tsrv/JiJTgXeAlQSXYwL8jOA8hxeBQ4Av\ngfNV9aulZTU1NQc/OGMOsJycHMeWLFibMYnIyTZjui8mQxWq+i6RC9cAnBqLGIwxxhiz/6zIgDHG\nGGOiFpOhCmOMMcb0DNbjYIwxxpioJXTiICLTRWSNiKwNlayOGyKyUURWisinIvKRw7E8KSLbRGTV\nHsd6icgbIlIc+pkXJ3H9UkRKQ5/bpyIyI9ZxheIYIiKLRaRIRApF5IbQccc/t/1hbSbqWKzNdD+2\nHtlmTEcJmziIiBv4A3AGMBa4SETGOhtVByer6hGqerTDcTwFTG937HaC+4QUAItwpnTxU3SMC+C3\noc/tiFAlRSfs2l9lDHAscG3o+xUPn9s+sTbTLU9hbaa7elybMZElbOIATAbWqup6VW0Bnie494Vp\nR1XfpuMOio7vE9JJXHGhh+6vYm0mStZmuq+HthkTQSInDoOAzXv8XhI6Fi8UeF1ElovIVU4HE0HY\nPiFAPO0TMktEVoS6ZR3v1uxqfxXi63PbG2sz+yee/+2tzZiYSeTEIVJdiHhaIjJFVY8i2C18rYic\n6HRACeJhYARwBLAFuN/JYNrvr+JkLAeAtZmeydqMialEThxKgCF7/D4YKHMolg5UtSz0cxswn2A3\ncTwpD+0Pwt72CYklVS1X1VZVbQMew8HPrav9VUL3x83nFiVrM/snLv/trc2YWEvkxOFDoEBEhotI\nCnAhwb0vHCciGSKStes28HVgVdfPirm43Cdk1wkm5Fwc+tx66P4q1mb2T1z+21ubMbGW0AWgQsuO\nfge4gSdV9dcOhwSAiBxK8IoJgmW9/+pkbCLyHDAN6A2UA3cB/6SLfUIcjGsawS5XBTYCP9o1Phrj\n2PZpf5V4Z20m6niszXQ/th7ZZkxHCZ04GGOMMSa2EnmowhhjjDExZomDMcYYY6JmiYMxxhhjomaJ\ngzHGGGOiZomDMcYYY6JmiYMxxhhjomaJgzHGGGOiZomDMcYYY6JmiUMSEZGfiMjf2x17SER+51RM\nxsQzERkhIpUiclTo94EiUiEi0xwOzRjHWOXIJBKqab8WGKSq1SLiIbjJ0RmqutzZ6IyJTyJyJXAz\nMIlgWeyVqnqrs1EZ4xzrcUgiofr1bwPnhw5NByosaTCmc6r6GFBMcM+FAcDPnY3IGGdZ4pB8ngYu\nDd2+FPiLg7EYkygeA8YDD6lqs9PBGOMkG6pIMiLiA7YAJwBLgbGq+qWzURkTv0QkE/gMWAycAUyw\n3R1NMrPEIQmJyGPAMQSHKU5xOh5j4pmIPAFkqeoFIvIokKuqFzgdlzFOsaGK5PQ0MAEbpjCmSyJy\nDsG5QFeHDt0MHCUilzgXlTHOsh6HJCQihwCrgf6qWut0PMYYYxKH9TgkGRFxEbxqet6SBmOMMd3l\ncToAEzsikgGUA5sIdr8aY4wx3WJDFcYYY4yJmg1VGGOMMSZqljgYY4wxJmqWOBhjjDEmapY4GGOM\nMSZqljgYY4wxJmqWOBhjjDEmav8PMKqGv3YLoPAAAAAASUVORK5CYII=\n",
          "text/plain": "<matplotlib.figure.Figure at 0x7f5b94707630>"
         },
         "metadata": {},
         "output_type": "display_data"
        }
       ]
      }
     },
     "a9e6924194904c0f90fc378ce58a5246": {
      "model_module": "@jupyter-widgets/controls",
      "model_module_version": "1.0.0",
      "model_name": "DescriptionStyleModel",
      "state": {
       "description_width": ""
      }
     },
     "ad696b79e03248bbbb4a7ce416d6f89b": {
      "model_module": "@jupyter-widgets/controls",
      "model_module_version": "1.0.0",
      "model_name": "DescriptionStyleModel",
      "state": {
       "description_width": ""
      }
     },
     "ad77ec4d6b664c95878c73ddf99f94ec": {
      "model_module": "@jupyter-widgets/base",
      "model_module_version": "1.0.0",
      "model_name": "LayoutModel",
      "state": {}
     },
     "af46a1e6ef6e40d8a4a6559671e7a1b9": {
      "model_module": "@jupyter-widgets/controls",
      "model_module_version": "1.0.0",
      "model_name": "VBoxModel",
      "state": {
       "children": [
        "IPY_MODEL_8e36b3f314154410a98f59d37164313b",
        "IPY_MODEL_cf4a168d296f4cfb8325b4f05b0c9908",
        "IPY_MODEL_4a76dbd981eb4f4ca26e8609bf65acfd"
       ],
       "layout": "IPY_MODEL_4ad35f7530cf468cb98541cefa0c7804"
      }
     },
     "b055321feedd454385fd70af2462f3db": {
      "model_module": "@jupyter-widgets/base",
      "model_module_version": "1.0.0",
      "model_name": "LayoutModel",
      "state": {}
     },
     "b39b3e872b4c482e8959fff2d9c155fa": {
      "model_module": "@jupyter-widgets/base",
      "model_module_version": "1.0.0",
      "model_name": "LayoutModel",
      "state": {}
     },
     "b48c4f724fec410785e698e1e7bb71fb": {
      "model_module": "@jupyter-widgets/controls",
      "model_module_version": "1.0.0",
      "model_name": "DescriptionStyleModel",
      "state": {
       "description_width": ""
      }
     },
     "b4bbfde82ed54eb6a6d1df5ddf85dbf5": {
      "model_module": "@jupyter-widgets/base",
      "model_module_version": "1.0.0",
      "model_name": "LayoutModel",
      "state": {}
     },
     "b88c838d2c484ba783794d7a4c7ee8f1": {
      "model_module": "@jupyter-widgets/controls",
      "model_module_version": "1.0.0",
      "model_name": "DescriptionStyleModel",
      "state": {
       "description_width": ""
      }
     },
     "b97452612807494ea3c66ddcc10a5e33": {
      "model_module": "@jupyter-widgets/controls",
      "model_module_version": "1.0.0",
      "model_name": "TextModel",
      "state": {
       "continuous_update": false,
       "description": "\\( x_q \\)",
       "layout": "IPY_MODEL_d1387a21016244048dbee40e3f34d1a9",
       "style": "IPY_MODEL_1fe17ae59655442db1bd78fad516b643",
       "value": "20"
      }
     },
     "bca41a6601f44894af15a805e7a73962": {
      "model_module": "@jupyter-widgets/controls",
      "model_module_version": "1.0.0",
      "model_name": "DescriptionStyleModel",
      "state": {
       "description_width": ""
      }
     },
     "bcfd5107ab224fdeaa3be5af9bfbf6c6": {
      "model_module": "@jupyter-widgets/controls",
      "model_module_version": "1.0.0",
      "model_name": "TextModel",
      "state": {
       "continuous_update": false,
       "description": "velocity 2",
       "layout": "IPY_MODEL_6668b733ac0b413a89b31c5b2f360bb3",
       "style": "IPY_MODEL_72b03b1758be4bb998b0fd944ac4e947"
      }
     },
     "bd0c2892b03d467db6009d77a830f7db": {
      "model_module": "@jupyter-widgets/base",
      "model_module_version": "1.0.0",
      "model_name": "LayoutModel",
      "state": {}
     },
     "bd264589fa494e2cb405063f641a0d02": {
      "model_module": "@jupyter-widgets/base",
      "model_module_version": "1.0.0",
      "model_name": "LayoutModel",
      "state": {}
     },
     "c12051883b064dfe834930fbbf3469d7": {
      "model_module": "@jupyter-widgets/base",
      "model_module_version": "1.0.0",
      "model_name": "LayoutModel",
      "state": {}
     },
     "c3fb14c1496b4103a73e6342390487ae": {
      "model_module": "@jupyter-widgets/controls",
      "model_module_version": "1.0.0",
      "model_name": "TextModel",
      "state": {
       "description": "\\( y_q \\left ( t_{min} \\right )\\)",
       "disabled": true,
       "layout": "IPY_MODEL_d2f4d748a907440f9c61a7e8b4f8116e",
       "style": "IPY_MODEL_0874eee81264455f8b4a8bdf6c287f93",
       "value": "7.263"
      }
     },
     "c472366440444f1db6c5c151c0d35274": {
      "model_module": "@jupyter-widgets/controls",
      "model_module_version": "1.0.0",
      "model_name": "DescriptionStyleModel",
      "state": {
       "description_width": ""
      }
     },
     "c5617eea51db4a829e383bd28116e4f7": {
      "model_module": "@jupyter-widgets/controls",
      "model_module_version": "1.0.0",
      "model_name": "DescriptionStyleModel",
      "state": {
       "description_width": ""
      }
     },
     "c66cab66e0e8403f82d2677d2e53dcfe": {
      "model_module": "@jupyter-widgets/controls",
      "model_module_version": "1.0.0",
      "model_name": "HBoxModel",
      "state": {
       "children": [
        "IPY_MODEL_d9245d6297ca459f94e3b70ebc2faa47",
        "IPY_MODEL_f68dd6fcead3471fbae2ff956f516ada",
        "IPY_MODEL_fbd34b0148dd41d295468b408ece217b"
       ],
       "layout": "IPY_MODEL_976fb1953d0841089a2addecd464c3d4"
      }
     },
     "cd4d1d94826040ffa060e01299220700": {
      "model_module": "@jupyter-widgets/base",
      "model_module_version": "1.0.0",
      "model_name": "LayoutModel",
      "state": {}
     },
     "cdd0a432b72b4da8a65afffa0a1e2bfa": {
      "model_module": "@jupyter-widgets/controls",
      "model_module_version": "1.0.0",
      "model_name": "TextModel",
      "state": {
       "continuous_update": false,
       "description": "velocity 2",
       "layout": "IPY_MODEL_e8432f7487bf4a9cac09b86e5a6b9c2a",
       "style": "IPY_MODEL_a11d6822bebd4b3da70bb97f0ff95b4f",
       "value": "2.5"
      }
     },
     "cf4a168d296f4cfb8325b4f05b0c9908": {
      "model_module": "@jupyter-widgets/controls",
      "model_module_version": "1.0.0",
      "model_name": "TextModel",
      "state": {
       "continuous_update": false,
       "description": "velocity 2",
       "layout": "IPY_MODEL_b39b3e872b4c482e8959fff2d9c155fa",
       "style": "IPY_MODEL_440f4d23b9e34c09985fe0f7111827bf",
       "value": "1"
      }
     },
     "cfefb6ebaaac410e9ed07c05a9cd5249": {
      "model_module": "@jupyter-widgets/controls",
      "model_module_version": "1.0.0",
      "model_name": "DescriptionStyleModel",
      "state": {
       "description_width": ""
      }
     },
     "d1387a21016244048dbee40e3f34d1a9": {
      "model_module": "@jupyter-widgets/base",
      "model_module_version": "1.0.0",
      "model_name": "LayoutModel",
      "state": {}
     },
     "d2f4d748a907440f9c61a7e8b4f8116e": {
      "model_module": "@jupyter-widgets/base",
      "model_module_version": "1.0.0",
      "model_name": "LayoutModel",
      "state": {}
     },
     "d400b9ea99e7483695b7809c9d1db6e1": {
      "model_module": "@jupyter-widgets/controls",
      "model_module_version": "1.0.0",
      "model_name": "HBoxModel",
      "state": {
       "children": [
        "IPY_MODEL_fd9009c3dcee44c4ab1dfd6cc5907afa",
        "IPY_MODEL_352873652d2e47558c9496fe18020cf2",
        "IPY_MODEL_e9f1047f6d2740df8bb004093ffd87f5"
       ],
       "layout": "IPY_MODEL_91de8de564084439883f84c5e3463ac0"
      }
     },
     "d46c1e28ce8d447a8ffb185c9e35c42f": {
      "model_module": "@jupyter-widgets/controls",
      "model_module_version": "1.0.0",
      "model_name": "TextModel",
      "state": {
       "continuous_update": false,
       "description": "\\( x_f \\)",
       "layout": "IPY_MODEL_94cf93f091b848aa8e708edc7a46cc83",
       "style": "IPY_MODEL_b48c4f724fec410785e698e1e7bb71fb",
       "value": "20"
      }
     },
     "d7cab4f592a24847be81032cb1df475c": {
      "model_module": "@jupyter-widgets/controls",
      "model_module_version": "1.0.0",
      "model_name": "DescriptionStyleModel",
      "state": {
       "description_width": ""
      }
     },
     "d9245d6297ca459f94e3b70ebc2faa47": {
      "model_module": "@jupyter-widgets/controls",
      "model_module_version": "1.0.0",
      "model_name": "VBoxModel",
      "state": {
       "children": [
        "IPY_MODEL_126156e557304b5fb0984b9a3f24329b",
        "IPY_MODEL_cdd0a432b72b4da8a65afffa0a1e2bfa",
        "IPY_MODEL_278042dd5236499aae15c2b6764eac3f"
       ],
       "layout": "IPY_MODEL_ec64650cdaa54881bd438401d72947f9"
      }
     },
     "da5fef1c05d84274a0692282c8bf8786": {
      "model_module": "@jupyter-widgets/controls",
      "model_module_version": "1.0.0",
      "model_name": "DescriptionStyleModel",
      "state": {
       "description_width": ""
      }
     },
     "de0a746c7595465fb60e0e027b6efaad": {
      "model_module": "@jupyter-widgets/controls",
      "model_module_version": "1.0.0",
      "model_name": "DescriptionStyleModel",
      "state": {
       "description_width": ""
      }
     },
     "de78a2bf12164c3eb9530cfee8d45c14": {
      "model_module": "@jupyter-widgets/controls",
      "model_module_version": "1.0.0",
      "model_name": "TextModel",
      "state": {
       "continuous_update": false,
       "description": "\\( x_q \\)",
       "layout": "IPY_MODEL_26b9896bbfa444c69b2a03634cf4fed0",
       "style": "IPY_MODEL_faa3a892d2e84c918c057beb8fa97a85",
       "value": "20"
      }
     },
     "df231304e80d4dd6a571c9039b86c8ae": {
      "model_module": "@jupyter-widgets/base",
      "model_module_version": "1.0.0",
      "model_name": "LayoutModel",
      "state": {}
     },
     "dfc2e3c0bda64b35879121e3572bf2cf": {
      "model_module": "@jupyter-widgets/base",
      "model_module_version": "1.0.0",
      "model_name": "LayoutModel",
      "state": {}
     },
     "dfd527c1e0c14f4ab16deb15c4e60135": {
      "model_module": "@jupyter-widgets/controls",
      "model_module_version": "1.0.0",
      "model_name": "TextModel",
      "state": {
       "continuous_update": false,
       "description": "\\( x_f \\)",
       "layout": "IPY_MODEL_7925a40de5bf4f04894eb303f830c377",
       "style": "IPY_MODEL_d7cab4f592a24847be81032cb1df475c",
       "value": "40"
      }
     },
     "e1b773bbe7ab43d8b16ae2dedb7446e0": {
      "model_module": "@jupyter-widgets/controls",
      "model_module_version": "1.0.0",
      "model_name": "VBoxModel",
      "state": {
       "children": [
        "IPY_MODEL_d46c1e28ce8d447a8ffb185c9e35c42f",
        "IPY_MODEL_1fcffe2021354ab09d9a075dd93c6b84"
       ],
       "layout": "IPY_MODEL_e4f2325178a24c1eba89a8524db8961e"
      }
     },
     "e2a8720fc44140ed98dc59035f15c81e": {
      "model_module": "@jupyter-widgets/controls",
      "model_module_version": "1.0.0",
      "model_name": "TextModel",
      "state": {
       "description": "\\( y_q \\left ( t_{min} \\right )\\)",
       "disabled": true,
       "layout": "IPY_MODEL_82865e79f9bb43658d074e03ca93e3bb",
       "style": "IPY_MODEL_c5617eea51db4a829e383bd28116e4f7",
       "value": "4.617"
      }
     },
     "e2aa031e642e435389c5fd25f33d892c": {
      "model_module": "@jupyter-widgets/controls",
      "model_module_version": "1.0.0",
      "model_name": "TextModel",
      "state": {
       "continuous_update": false,
       "description": "\\( x_q \\)",
       "layout": "IPY_MODEL_549ce195f4ac4d4bbba986853038dff4",
       "style": "IPY_MODEL_a9e6924194904c0f90fc378ce58a5246",
       "value": "10"
      }
     },
     "e4456062a3af409f8ab29ff188632f6d": {
      "model_module": "@jupyter-widgets/base",
      "model_module_version": "1.0.0",
      "model_name": "LayoutModel",
      "state": {}
     },
     "e4f2325178a24c1eba89a8524db8961e": {
      "model_module": "@jupyter-widgets/base",
      "model_module_version": "1.0.0",
      "model_name": "LayoutModel",
      "state": {}
     },
     "e6a91a3b95bf4d0bb0e8df7836d4f63e": {
      "model_module": "@jupyter-widgets/controls",
      "model_module_version": "1.0.0",
      "model_name": "DescriptionStyleModel",
      "state": {
       "description_width": ""
      }
     },
     "e8432f7487bf4a9cac09b86e5a6b9c2a": {
      "model_module": "@jupyter-widgets/base",
      "model_module_version": "1.0.0",
      "model_name": "LayoutModel",
      "state": {}
     },
     "e9f1047f6d2740df8bb004093ffd87f5": {
      "model_module": "@jupyter-widgets/controls",
      "model_module_version": "1.0.0",
      "model_name": "VBoxModel",
      "state": {
       "children": [
        "IPY_MODEL_0aa79b228bfa4e8d8825f3d3875a1b93",
        "IPY_MODEL_981c1a5da8ea4954b70ac03421793643"
       ],
       "layout": "IPY_MODEL_2553820aeba04f98b2667ce513825dbe"
      }
     },
     "eb26df9fa6af45dabf21839a59278fe9": {
      "model_module": "@jupyter-widgets/controls",
      "model_module_version": "1.0.0",
      "model_name": "LabelModel",
      "state": {
       "layout": "IPY_MODEL_1af66f1ce0ce4cd9859185bb3520a4e7",
       "style": "IPY_MODEL_cfefb6ebaaac410e9ed07c05a9cd5249"
      }
     },
     "ec64650cdaa54881bd438401d72947f9": {
      "model_module": "@jupyter-widgets/base",
      "model_module_version": "1.0.0",
      "model_name": "LayoutModel",
      "state": {}
     },
     "efec36c6c1b742d6b160024a64074b79": {
      "model_module": "@jupyter-widgets/controls",
      "model_module_version": "1.0.0",
      "model_name": "LabelModel",
      "state": {
       "layout": "IPY_MODEL_95e094cb22d740e68588879882325525",
       "style": "IPY_MODEL_423022938b904977bbe60273d2c25df5"
      }
     },
     "f3524c20e2f541a9a654b6f5ccdf7583": {
      "model_module": "@jupyter-widgets/controls",
      "model_module_version": "1.0.0",
      "model_name": "TextModel",
      "state": {
       "continuous_update": false,
       "description": "velocity 1",
       "layout": "IPY_MODEL_2cd9ba52d63a47a085861a3e3d2389e8",
       "style": "IPY_MODEL_07a0a11e1f2f45cbbda41085a8d04d08",
       "value": "1"
      }
     },
     "f45193cc293b43879f43b515b64d7b28": {
      "model_module": "@jupyter-widgets/controls",
      "model_module_version": "1.0.0",
      "model_name": "DescriptionStyleModel",
      "state": {
       "description_width": ""
      }
     },
     "f68dd6fcead3471fbae2ff956f516ada": {
      "model_module": "@jupyter-widgets/controls",
      "model_module_version": "1.0.0",
      "model_name": "VBoxModel",
      "state": {
       "children": [
        "IPY_MODEL_27d980206771456ea69a3e490e7a06b8"
       ],
       "layout": "IPY_MODEL_2295994d44134b80827e5268f4670586"
      }
     },
     "faa3a892d2e84c918c057beb8fa97a85": {
      "model_module": "@jupyter-widgets/controls",
      "model_module_version": "1.0.0",
      "model_name": "DescriptionStyleModel",
      "state": {
       "description_width": ""
      }
     },
     "fba09cfaabef4c0c826c25dd8dc98c1e": {
      "model_module": "@jupyter-widgets/controls",
      "model_module_version": "1.0.0",
      "model_name": "DescriptionStyleModel",
      "state": {
       "description_width": ""
      }
     },
     "fbd34b0148dd41d295468b408ece217b": {
      "model_module": "@jupyter-widgets/controls",
      "model_module_version": "1.0.0",
      "model_name": "VBoxModel",
      "state": {
       "children": [
        "IPY_MODEL_29617e550e344131a92575928b6a38e1",
        "IPY_MODEL_6bd7611ebf4840d4a189192375f220bc"
       ],
       "layout": "IPY_MODEL_8a07a1bf85ea40ecbaa5a05f68d52b96"
      }
     },
     "fd9009c3dcee44c4ab1dfd6cc5907afa": {
      "model_module": "@jupyter-widgets/controls",
      "model_module_version": "1.0.0",
      "model_name": "VBoxModel",
      "state": {
       "children": [
        "IPY_MODEL_5130eb31decd446cb7d372ab2ed40c8e",
        "IPY_MODEL_bcfd5107ab224fdeaa3be5af9bfbf6c6",
        "IPY_MODEL_efec36c6c1b742d6b160024a64074b79"
       ],
       "layout": "IPY_MODEL_856c10c2d37843c1ac7261e14b5d8abf"
      }
     },
     "fed68b72f2af4fada02f1ac3c68b6e5d": {
      "model_module": "@jupyter-widgets/base",
      "model_module_version": "1.0.0",
      "model_name": "LayoutModel",
      "state": {}
     }
    },
    "version_major": 2,
    "version_minor": 0
   }
  }
 },
 "nbformat": 4,
 "nbformat_minor": 1
}
